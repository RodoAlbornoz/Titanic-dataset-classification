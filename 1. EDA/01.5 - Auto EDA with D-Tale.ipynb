{
 "cells": [
  {
   "cell_type": "markdown",
   "id": "6c32d7c0",
   "metadata": {},
   "source": [
    "Let's complement our manual EDA analysis using the Auto EDA library D-Tale"
   ]
  },
  {
   "cell_type": "markdown",
   "id": "c1ca1ea9",
   "metadata": {},
   "source": [
    "Import required libraries"
   ]
  },
  {
   "cell_type": "code",
   "execution_count": 1,
   "id": "31546e55",
   "metadata": {},
   "outputs": [],
   "source": [
    "import dtale\n",
    "import pandas as pd\n",
    "\n",
    "import warnings\n",
    "warnings.filterwarnings(\"ignore\")"
   ]
  },
  {
   "cell_type": "markdown",
   "id": "0b2c1ed5",
   "metadata": {},
   "source": [
    "Print library versions to avoid conflicts"
   ]
  },
  {
   "cell_type": "code",
   "execution_count": 2,
   "id": "937ad223",
   "metadata": {},
   "outputs": [
    {
     "name": "stdout",
     "output_type": "stream",
     "text": [
      "Pandas Version: 1.5.3\n"
     ]
    }
   ],
   "source": [
    "print(f'Pandas Version: {pd.__version__}') "
   ]
  },
  {
   "cell_type": "markdown",
   "id": "f8fbf4af",
   "metadata": {},
   "source": [
    "Add some configurations"
   ]
  },
  {
   "cell_type": "code",
   "execution_count": 3,
   "id": "134480e1",
   "metadata": {},
   "outputs": [],
   "source": [
    "pd.set_option('display.max_columns', None)\n",
    "pd.set_option('display.max_rows', None)\n",
    "pd.set_option('display.max_colwidth', None)\n",
    "pd.set_option('display.precision', 3)\n",
    "pd.set_option('plotting.backend', 'matplotlib') \n",
    "pd.options.mode.chained_assignment = None"
   ]
  },
  {
   "cell_type": "markdown",
   "id": "8cb9ffa4",
   "metadata": {},
   "source": [
    "Load the train dataset"
   ]
  },
  {
   "cell_type": "code",
   "execution_count": 4,
   "id": "94b65aad",
   "metadata": {},
   "outputs": [],
   "source": [
    "ds_titanic_train = pd.read_csv(r\"C:\\Users\\Administrador\\Documents\\IA\\Proyectos\\Titanic\\Datasets\\train.csv\", encoding = 'unicode_escape')\n",
    "ds_work = ds_titanic_train.copy()"
   ]
  },
  {
   "cell_type": "markdown",
   "id": "c24862b1",
   "metadata": {},
   "source": [
    "# Using D-Tale"
   ]
  },
  {
   "cell_type": "code",
   "execution_count": 5,
   "id": "2b222bd6",
   "metadata": {},
   "outputs": [],
   "source": [
    "d = dtale.show(ds_work)"
   ]
  },
  {
   "cell_type": "code",
   "execution_count": 6,
   "id": "ded294c5",
   "metadata": {},
   "outputs": [],
   "source": [
    "d.open_browser()"
   ]
  },
  {
   "cell_type": "markdown",
   "id": "deec7f35",
   "metadata": {},
   "source": [
    "Even if we can't conclude extra things like the ones obtained in the other Auto EDA libraries, it is still useful to reinforce what is necessary to do"
   ]
  }
 ],
 "metadata": {
  "kernelspec": {
   "display_name": "Python 3 (ipykernel)",
   "language": "python",
   "name": "python3"
  },
  "language_info": {
   "codemirror_mode": {
    "name": "ipython",
    "version": 3
   },
   "file_extension": ".py",
   "mimetype": "text/x-python",
   "name": "python",
   "nbconvert_exporter": "python",
   "pygments_lexer": "ipython3",
   "version": "3.10.9"
  }
 },
 "nbformat": 4,
 "nbformat_minor": 5
}
