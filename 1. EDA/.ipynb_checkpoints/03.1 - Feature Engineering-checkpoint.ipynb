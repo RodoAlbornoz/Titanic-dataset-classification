{
 "cells": [
  {
   "cell_type": "markdown",
   "id": "56b7fab6",
   "metadata": {},
   "source": [
    "Now that we've analyzed our dataset, let's now apply all the things that we got from that analysis"
   ]
  },
  {
   "cell_type": "markdown",
   "id": "565f78af",
   "metadata": {},
   "source": [
    "Import required libraries"
   ]
  },
  {
   "cell_type": "code",
   "execution_count": 7,
   "id": "22c82a72",
   "metadata": {},
   "outputs": [],
   "source": [
    "import pandas as pd\n",
    "import numpy as np\n",
    "import matplotlib\n",
    "import matplotlib.pyplot as plt\n",
    "import seaborn as sns\n",
    "\n",
    "import sys\n",
    "import os\n",
    "\n",
    "import warnings\n",
    "warnings.filterwarnings(\"ignore\")"
   ]
  },
  {
   "cell_type": "markdown",
   "id": "258726b0",
   "metadata": {},
   "source": [
    "Import train and test datasets paths"
   ]
  },
  {
   "cell_type": "code",
   "execution_count": 8,
   "id": "e8f08d00",
   "metadata": {},
   "outputs": [],
   "source": [
    "sys.path.append(os.path.abspath(os.path.join(os.path.dirname(\"__file__\"), \"..\")))\n",
    "from Datasets.Datasets_paths import ds_train_path, ds_test_path"
   ]
  },
  {
   "cell_type": "markdown",
   "id": "31267407",
   "metadata": {},
   "source": [
    "Print library versions"
   ]
  },
  {
   "cell_type": "code",
   "execution_count": 9,
   "id": "990df0da",
   "metadata": {},
   "outputs": [
    {
     "name": "stdout",
     "output_type": "stream",
     "text": [
      "Pandas Version: 1.5.3\n",
      "Numpy Version: 1.23.5\n",
      "Matplotlib version: 3.6.3\n",
      "Seaborn version: 0.12.2\n"
     ]
    }
   ],
   "source": [
    "print(f'Pandas Version: {pd.__version__}') \n",
    "print(f'Numpy Version: {np.__version__}') \n",
    "print(f'Matplotlib version: {matplotlib.__version__}')\n",
    "print(f'Seaborn version: {sns.__version__}')"
   ]
  },
  {
   "cell_type": "markdown",
   "id": "6853a2b9",
   "metadata": {},
   "source": [
    "Add for better visualization"
   ]
  },
  {
   "cell_type": "code",
   "execution_count": 10,
   "id": "ab700e2a",
   "metadata": {},
   "outputs": [],
   "source": [
    "pd.set_option('display.max_columns', None)\n",
    "pd.set_option('display.max_rows', None)\n",
    "pd.set_option('display.max_colwidth', None)\n",
    "pd.set_option('display.precision', 3)\n",
    "pd.set_option('plotting.backend', 'matplotlib') \n",
    "pd.options.mode.chained_assignment = None\n",
    "np.set_printoptions(suppress=True)\n",
    "pd.options.display.float_format = '{:.4f}'.format\n",
    "\n",
    "%matplotlib inline\n",
    "plt.rcParams[\"figure.figsize\"] = (15, 7)"
   ]
  },
  {
   "cell_type": "markdown",
   "id": "320f4f34",
   "metadata": {},
   "source": [
    "Load train and test datasets"
   ]
  },
  {
   "cell_type": "code",
   "execution_count": 11,
   "id": "c9141635",
   "metadata": {
    "scrolled": true
   },
   "outputs": [],
   "source": [
    "ds_titanic_train = pd.read_csv(ds_train_path, encoding = 'unicode_escape')\n",
    "ds_work = ds_titanic_train.copy()\n",
    "\n",
    "ds_titanic_test = pd.read_csv(ds_test_path, encoding = 'unicode_escape')\n",
    "ds_test = ds_titanic_test.copy()"
   ]
  },
  {
   "cell_type": "markdown",
   "id": "e03909b4",
   "metadata": {},
   "source": [
    "# Checking correct load of datasets"
   ]
  },
  {
   "cell_type": "markdown",
   "id": "e79a04e4",
   "metadata": {},
   "source": [
    "Show first 10 registers"
   ]
  },
  {
   "cell_type": "code",
   "execution_count": 5,
   "id": "0e238227",
   "metadata": {},
   "outputs": [
    {
     "data": {
      "text/html": [
       "<div>\n",
       "<style scoped>\n",
       "    .dataframe tbody tr th:only-of-type {\n",
       "        vertical-align: middle;\n",
       "    }\n",
       "\n",
       "    .dataframe tbody tr th {\n",
       "        vertical-align: top;\n",
       "    }\n",
       "\n",
       "    .dataframe thead th {\n",
       "        text-align: right;\n",
       "    }\n",
       "</style>\n",
       "<table border=\"1\" class=\"dataframe\">\n",
       "  <thead>\n",
       "    <tr style=\"text-align: right;\">\n",
       "      <th></th>\n",
       "      <th>PassengerId</th>\n",
       "      <th>Survived</th>\n",
       "      <th>Pclass</th>\n",
       "      <th>Name</th>\n",
       "      <th>Sex</th>\n",
       "      <th>Age</th>\n",
       "      <th>SibSp</th>\n",
       "      <th>Parch</th>\n",
       "      <th>Ticket</th>\n",
       "      <th>Fare</th>\n",
       "      <th>Cabin</th>\n",
       "      <th>Embarked</th>\n",
       "    </tr>\n",
       "  </thead>\n",
       "  <tbody>\n",
       "    <tr>\n",
       "      <th>0</th>\n",
       "      <td>1</td>\n",
       "      <td>0</td>\n",
       "      <td>3</td>\n",
       "      <td>Braund, Mr. Owen Harris</td>\n",
       "      <td>male</td>\n",
       "      <td>22.0000</td>\n",
       "      <td>1</td>\n",
       "      <td>0</td>\n",
       "      <td>A/5 21171</td>\n",
       "      <td>7.2500</td>\n",
       "      <td>NaN</td>\n",
       "      <td>S</td>\n",
       "    </tr>\n",
       "    <tr>\n",
       "      <th>1</th>\n",
       "      <td>2</td>\n",
       "      <td>1</td>\n",
       "      <td>1</td>\n",
       "      <td>Cumings, Mrs. John Bradley (Florence Briggs Thayer)</td>\n",
       "      <td>female</td>\n",
       "      <td>38.0000</td>\n",
       "      <td>1</td>\n",
       "      <td>0</td>\n",
       "      <td>PC 17599</td>\n",
       "      <td>71.2833</td>\n",
       "      <td>C85</td>\n",
       "      <td>C</td>\n",
       "    </tr>\n",
       "    <tr>\n",
       "      <th>2</th>\n",
       "      <td>3</td>\n",
       "      <td>1</td>\n",
       "      <td>3</td>\n",
       "      <td>Heikkinen, Miss. Laina</td>\n",
       "      <td>female</td>\n",
       "      <td>26.0000</td>\n",
       "      <td>0</td>\n",
       "      <td>0</td>\n",
       "      <td>STON/O2. 3101282</td>\n",
       "      <td>7.9250</td>\n",
       "      <td>NaN</td>\n",
       "      <td>S</td>\n",
       "    </tr>\n",
       "    <tr>\n",
       "      <th>3</th>\n",
       "      <td>4</td>\n",
       "      <td>1</td>\n",
       "      <td>1</td>\n",
       "      <td>Futrelle, Mrs. Jacques Heath (Lily May Peel)</td>\n",
       "      <td>female</td>\n",
       "      <td>35.0000</td>\n",
       "      <td>1</td>\n",
       "      <td>0</td>\n",
       "      <td>113803</td>\n",
       "      <td>53.1000</td>\n",
       "      <td>C123</td>\n",
       "      <td>S</td>\n",
       "    </tr>\n",
       "    <tr>\n",
       "      <th>4</th>\n",
       "      <td>5</td>\n",
       "      <td>0</td>\n",
       "      <td>3</td>\n",
       "      <td>Allen, Mr. William Henry</td>\n",
       "      <td>male</td>\n",
       "      <td>35.0000</td>\n",
       "      <td>0</td>\n",
       "      <td>0</td>\n",
       "      <td>373450</td>\n",
       "      <td>8.0500</td>\n",
       "      <td>NaN</td>\n",
       "      <td>S</td>\n",
       "    </tr>\n",
       "    <tr>\n",
       "      <th>5</th>\n",
       "      <td>6</td>\n",
       "      <td>0</td>\n",
       "      <td>3</td>\n",
       "      <td>Moran, Mr. James</td>\n",
       "      <td>male</td>\n",
       "      <td>NaN</td>\n",
       "      <td>0</td>\n",
       "      <td>0</td>\n",
       "      <td>330877</td>\n",
       "      <td>8.4583</td>\n",
       "      <td>NaN</td>\n",
       "      <td>Q</td>\n",
       "    </tr>\n",
       "    <tr>\n",
       "      <th>6</th>\n",
       "      <td>7</td>\n",
       "      <td>0</td>\n",
       "      <td>1</td>\n",
       "      <td>McCarthy, Mr. Timothy J</td>\n",
       "      <td>male</td>\n",
       "      <td>54.0000</td>\n",
       "      <td>0</td>\n",
       "      <td>0</td>\n",
       "      <td>17463</td>\n",
       "      <td>51.8625</td>\n",
       "      <td>E46</td>\n",
       "      <td>S</td>\n",
       "    </tr>\n",
       "    <tr>\n",
       "      <th>7</th>\n",
       "      <td>8</td>\n",
       "      <td>0</td>\n",
       "      <td>3</td>\n",
       "      <td>Palsson, Master. Gosta Leonard</td>\n",
       "      <td>male</td>\n",
       "      <td>2.0000</td>\n",
       "      <td>3</td>\n",
       "      <td>1</td>\n",
       "      <td>349909</td>\n",
       "      <td>21.0750</td>\n",
       "      <td>NaN</td>\n",
       "      <td>S</td>\n",
       "    </tr>\n",
       "    <tr>\n",
       "      <th>8</th>\n",
       "      <td>9</td>\n",
       "      <td>1</td>\n",
       "      <td>3</td>\n",
       "      <td>Johnson, Mrs. Oscar W (Elisabeth Vilhelmina Berg)</td>\n",
       "      <td>female</td>\n",
       "      <td>27.0000</td>\n",
       "      <td>0</td>\n",
       "      <td>2</td>\n",
       "      <td>347742</td>\n",
       "      <td>11.1333</td>\n",
       "      <td>NaN</td>\n",
       "      <td>S</td>\n",
       "    </tr>\n",
       "    <tr>\n",
       "      <th>9</th>\n",
       "      <td>10</td>\n",
       "      <td>1</td>\n",
       "      <td>2</td>\n",
       "      <td>Nasser, Mrs. Nicholas (Adele Achem)</td>\n",
       "      <td>female</td>\n",
       "      <td>14.0000</td>\n",
       "      <td>1</td>\n",
       "      <td>0</td>\n",
       "      <td>237736</td>\n",
       "      <td>30.0708</td>\n",
       "      <td>NaN</td>\n",
       "      <td>C</td>\n",
       "    </tr>\n",
       "  </tbody>\n",
       "</table>\n",
       "</div>"
      ],
      "text/plain": [
       "   PassengerId  Survived  Pclass  \\\n",
       "0            1         0       3   \n",
       "1            2         1       1   \n",
       "2            3         1       3   \n",
       "3            4         1       1   \n",
       "4            5         0       3   \n",
       "5            6         0       3   \n",
       "6            7         0       1   \n",
       "7            8         0       3   \n",
       "8            9         1       3   \n",
       "9           10         1       2   \n",
       "\n",
       "                                                  Name     Sex     Age  SibSp  \\\n",
       "0                              Braund, Mr. Owen Harris    male 22.0000      1   \n",
       "1  Cumings, Mrs. John Bradley (Florence Briggs Thayer)  female 38.0000      1   \n",
       "2                               Heikkinen, Miss. Laina  female 26.0000      0   \n",
       "3         Futrelle, Mrs. Jacques Heath (Lily May Peel)  female 35.0000      1   \n",
       "4                             Allen, Mr. William Henry    male 35.0000      0   \n",
       "5                                     Moran, Mr. James    male     NaN      0   \n",
       "6                              McCarthy, Mr. Timothy J    male 54.0000      0   \n",
       "7                       Palsson, Master. Gosta Leonard    male  2.0000      3   \n",
       "8    Johnson, Mrs. Oscar W (Elisabeth Vilhelmina Berg)  female 27.0000      0   \n",
       "9                  Nasser, Mrs. Nicholas (Adele Achem)  female 14.0000      1   \n",
       "\n",
       "   Parch            Ticket    Fare Cabin Embarked  \n",
       "0      0         A/5 21171  7.2500   NaN        S  \n",
       "1      0          PC 17599 71.2833   C85        C  \n",
       "2      0  STON/O2. 3101282  7.9250   NaN        S  \n",
       "3      0            113803 53.1000  C123        S  \n",
       "4      0            373450  8.0500   NaN        S  \n",
       "5      0            330877  8.4583   NaN        Q  \n",
       "6      0             17463 51.8625   E46        S  \n",
       "7      1            349909 21.0750   NaN        S  \n",
       "8      2            347742 11.1333   NaN        S  \n",
       "9      0            237736 30.0708   NaN        C  "
      ]
     },
     "execution_count": 5,
     "metadata": {},
     "output_type": "execute_result"
    }
   ],
   "source": [
    "ds_work.head(10)"
   ]
  },
  {
   "cell_type": "code",
   "execution_count": 6,
   "id": "08edab6c",
   "metadata": {},
   "outputs": [
    {
     "data": {
      "text/html": [
       "<div>\n",
       "<style scoped>\n",
       "    .dataframe tbody tr th:only-of-type {\n",
       "        vertical-align: middle;\n",
       "    }\n",
       "\n",
       "    .dataframe tbody tr th {\n",
       "        vertical-align: top;\n",
       "    }\n",
       "\n",
       "    .dataframe thead th {\n",
       "        text-align: right;\n",
       "    }\n",
       "</style>\n",
       "<table border=\"1\" class=\"dataframe\">\n",
       "  <thead>\n",
       "    <tr style=\"text-align: right;\">\n",
       "      <th></th>\n",
       "      <th>PassengerId</th>\n",
       "      <th>Pclass</th>\n",
       "      <th>Name</th>\n",
       "      <th>Sex</th>\n",
       "      <th>Age</th>\n",
       "      <th>SibSp</th>\n",
       "      <th>Parch</th>\n",
       "      <th>Ticket</th>\n",
       "      <th>Fare</th>\n",
       "      <th>Cabin</th>\n",
       "      <th>Embarked</th>\n",
       "    </tr>\n",
       "  </thead>\n",
       "  <tbody>\n",
       "    <tr>\n",
       "      <th>0</th>\n",
       "      <td>892</td>\n",
       "      <td>3</td>\n",
       "      <td>Kelly, Mr. James</td>\n",
       "      <td>male</td>\n",
       "      <td>34.5000</td>\n",
       "      <td>0</td>\n",
       "      <td>0</td>\n",
       "      <td>330911</td>\n",
       "      <td>7.8292</td>\n",
       "      <td>NaN</td>\n",
       "      <td>Q</td>\n",
       "    </tr>\n",
       "    <tr>\n",
       "      <th>1</th>\n",
       "      <td>893</td>\n",
       "      <td>3</td>\n",
       "      <td>Wilkes, Mrs. James (Ellen Needs)</td>\n",
       "      <td>female</td>\n",
       "      <td>47.0000</td>\n",
       "      <td>1</td>\n",
       "      <td>0</td>\n",
       "      <td>363272</td>\n",
       "      <td>7.0000</td>\n",
       "      <td>NaN</td>\n",
       "      <td>S</td>\n",
       "    </tr>\n",
       "    <tr>\n",
       "      <th>2</th>\n",
       "      <td>894</td>\n",
       "      <td>2</td>\n",
       "      <td>Myles, Mr. Thomas Francis</td>\n",
       "      <td>male</td>\n",
       "      <td>62.0000</td>\n",
       "      <td>0</td>\n",
       "      <td>0</td>\n",
       "      <td>240276</td>\n",
       "      <td>9.6875</td>\n",
       "      <td>NaN</td>\n",
       "      <td>Q</td>\n",
       "    </tr>\n",
       "    <tr>\n",
       "      <th>3</th>\n",
       "      <td>895</td>\n",
       "      <td>3</td>\n",
       "      <td>Wirz, Mr. Albert</td>\n",
       "      <td>male</td>\n",
       "      <td>27.0000</td>\n",
       "      <td>0</td>\n",
       "      <td>0</td>\n",
       "      <td>315154</td>\n",
       "      <td>8.6625</td>\n",
       "      <td>NaN</td>\n",
       "      <td>S</td>\n",
       "    </tr>\n",
       "    <tr>\n",
       "      <th>4</th>\n",
       "      <td>896</td>\n",
       "      <td>3</td>\n",
       "      <td>Hirvonen, Mrs. Alexander (Helga E Lindqvist)</td>\n",
       "      <td>female</td>\n",
       "      <td>22.0000</td>\n",
       "      <td>1</td>\n",
       "      <td>1</td>\n",
       "      <td>3101298</td>\n",
       "      <td>12.2875</td>\n",
       "      <td>NaN</td>\n",
       "      <td>S</td>\n",
       "    </tr>\n",
       "    <tr>\n",
       "      <th>5</th>\n",
       "      <td>897</td>\n",
       "      <td>3</td>\n",
       "      <td>Svensson, Mr. Johan Cervin</td>\n",
       "      <td>male</td>\n",
       "      <td>14.0000</td>\n",
       "      <td>0</td>\n",
       "      <td>0</td>\n",
       "      <td>7538</td>\n",
       "      <td>9.2250</td>\n",
       "      <td>NaN</td>\n",
       "      <td>S</td>\n",
       "    </tr>\n",
       "    <tr>\n",
       "      <th>6</th>\n",
       "      <td>898</td>\n",
       "      <td>3</td>\n",
       "      <td>Connolly, Miss. Kate</td>\n",
       "      <td>female</td>\n",
       "      <td>30.0000</td>\n",
       "      <td>0</td>\n",
       "      <td>0</td>\n",
       "      <td>330972</td>\n",
       "      <td>7.6292</td>\n",
       "      <td>NaN</td>\n",
       "      <td>Q</td>\n",
       "    </tr>\n",
       "    <tr>\n",
       "      <th>7</th>\n",
       "      <td>899</td>\n",
       "      <td>2</td>\n",
       "      <td>Caldwell, Mr. Albert Francis</td>\n",
       "      <td>male</td>\n",
       "      <td>26.0000</td>\n",
       "      <td>1</td>\n",
       "      <td>1</td>\n",
       "      <td>248738</td>\n",
       "      <td>29.0000</td>\n",
       "      <td>NaN</td>\n",
       "      <td>S</td>\n",
       "    </tr>\n",
       "    <tr>\n",
       "      <th>8</th>\n",
       "      <td>900</td>\n",
       "      <td>3</td>\n",
       "      <td>Abrahim, Mrs. Joseph (Sophie Halaut Easu)</td>\n",
       "      <td>female</td>\n",
       "      <td>18.0000</td>\n",
       "      <td>0</td>\n",
       "      <td>0</td>\n",
       "      <td>2657</td>\n",
       "      <td>7.2292</td>\n",
       "      <td>NaN</td>\n",
       "      <td>C</td>\n",
       "    </tr>\n",
       "    <tr>\n",
       "      <th>9</th>\n",
       "      <td>901</td>\n",
       "      <td>3</td>\n",
       "      <td>Davies, Mr. John Samuel</td>\n",
       "      <td>male</td>\n",
       "      <td>21.0000</td>\n",
       "      <td>2</td>\n",
       "      <td>0</td>\n",
       "      <td>A/4 48871</td>\n",
       "      <td>24.1500</td>\n",
       "      <td>NaN</td>\n",
       "      <td>S</td>\n",
       "    </tr>\n",
       "  </tbody>\n",
       "</table>\n",
       "</div>"
      ],
      "text/plain": [
       "   PassengerId  Pclass                                          Name     Sex  \\\n",
       "0          892       3                              Kelly, Mr. James    male   \n",
       "1          893       3              Wilkes, Mrs. James (Ellen Needs)  female   \n",
       "2          894       2                     Myles, Mr. Thomas Francis    male   \n",
       "3          895       3                              Wirz, Mr. Albert    male   \n",
       "4          896       3  Hirvonen, Mrs. Alexander (Helga E Lindqvist)  female   \n",
       "5          897       3                    Svensson, Mr. Johan Cervin    male   \n",
       "6          898       3                          Connolly, Miss. Kate  female   \n",
       "7          899       2                  Caldwell, Mr. Albert Francis    male   \n",
       "8          900       3     Abrahim, Mrs. Joseph (Sophie Halaut Easu)  female   \n",
       "9          901       3                       Davies, Mr. John Samuel    male   \n",
       "\n",
       "      Age  SibSp  Parch     Ticket    Fare Cabin Embarked  \n",
       "0 34.5000      0      0     330911  7.8292   NaN        Q  \n",
       "1 47.0000      1      0     363272  7.0000   NaN        S  \n",
       "2 62.0000      0      0     240276  9.6875   NaN        Q  \n",
       "3 27.0000      0      0     315154  8.6625   NaN        S  \n",
       "4 22.0000      1      1    3101298 12.2875   NaN        S  \n",
       "5 14.0000      0      0       7538  9.2250   NaN        S  \n",
       "6 30.0000      0      0     330972  7.6292   NaN        Q  \n",
       "7 26.0000      1      1     248738 29.0000   NaN        S  \n",
       "8 18.0000      0      0       2657  7.2292   NaN        C  \n",
       "9 21.0000      2      0  A/4 48871 24.1500   NaN        S  "
      ]
     },
     "execution_count": 6,
     "metadata": {},
     "output_type": "execute_result"
    }
   ],
   "source": [
    "ds_test.head(10)"
   ]
  },
  {
   "cell_type": "markdown",
   "id": "14aaa52d",
   "metadata": {},
   "source": [
    "Show last 10 registers"
   ]
  },
  {
   "cell_type": "code",
   "execution_count": 7,
   "id": "1b4374e8",
   "metadata": {},
   "outputs": [
    {
     "data": {
      "text/html": [
       "<div>\n",
       "<style scoped>\n",
       "    .dataframe tbody tr th:only-of-type {\n",
       "        vertical-align: middle;\n",
       "    }\n",
       "\n",
       "    .dataframe tbody tr th {\n",
       "        vertical-align: top;\n",
       "    }\n",
       "\n",
       "    .dataframe thead th {\n",
       "        text-align: right;\n",
       "    }\n",
       "</style>\n",
       "<table border=\"1\" class=\"dataframe\">\n",
       "  <thead>\n",
       "    <tr style=\"text-align: right;\">\n",
       "      <th></th>\n",
       "      <th>PassengerId</th>\n",
       "      <th>Survived</th>\n",
       "      <th>Pclass</th>\n",
       "      <th>Name</th>\n",
       "      <th>Sex</th>\n",
       "      <th>Age</th>\n",
       "      <th>SibSp</th>\n",
       "      <th>Parch</th>\n",
       "      <th>Ticket</th>\n",
       "      <th>Fare</th>\n",
       "      <th>Cabin</th>\n",
       "      <th>Embarked</th>\n",
       "    </tr>\n",
       "  </thead>\n",
       "  <tbody>\n",
       "    <tr>\n",
       "      <th>881</th>\n",
       "      <td>882</td>\n",
       "      <td>0</td>\n",
       "      <td>3</td>\n",
       "      <td>Markun, Mr. Johann</td>\n",
       "      <td>male</td>\n",
       "      <td>33.0000</td>\n",
       "      <td>0</td>\n",
       "      <td>0</td>\n",
       "      <td>349257</td>\n",
       "      <td>7.8958</td>\n",
       "      <td>NaN</td>\n",
       "      <td>S</td>\n",
       "    </tr>\n",
       "    <tr>\n",
       "      <th>882</th>\n",
       "      <td>883</td>\n",
       "      <td>0</td>\n",
       "      <td>3</td>\n",
       "      <td>Dahlberg, Miss. Gerda Ulrika</td>\n",
       "      <td>female</td>\n",
       "      <td>22.0000</td>\n",
       "      <td>0</td>\n",
       "      <td>0</td>\n",
       "      <td>7552</td>\n",
       "      <td>10.5167</td>\n",
       "      <td>NaN</td>\n",
       "      <td>S</td>\n",
       "    </tr>\n",
       "    <tr>\n",
       "      <th>883</th>\n",
       "      <td>884</td>\n",
       "      <td>0</td>\n",
       "      <td>2</td>\n",
       "      <td>Banfield, Mr. Frederick James</td>\n",
       "      <td>male</td>\n",
       "      <td>28.0000</td>\n",
       "      <td>0</td>\n",
       "      <td>0</td>\n",
       "      <td>C.A./SOTON 34068</td>\n",
       "      <td>10.5000</td>\n",
       "      <td>NaN</td>\n",
       "      <td>S</td>\n",
       "    </tr>\n",
       "    <tr>\n",
       "      <th>884</th>\n",
       "      <td>885</td>\n",
       "      <td>0</td>\n",
       "      <td>3</td>\n",
       "      <td>Sutehall, Mr. Henry Jr</td>\n",
       "      <td>male</td>\n",
       "      <td>25.0000</td>\n",
       "      <td>0</td>\n",
       "      <td>0</td>\n",
       "      <td>SOTON/OQ 392076</td>\n",
       "      <td>7.0500</td>\n",
       "      <td>NaN</td>\n",
       "      <td>S</td>\n",
       "    </tr>\n",
       "    <tr>\n",
       "      <th>885</th>\n",
       "      <td>886</td>\n",
       "      <td>0</td>\n",
       "      <td>3</td>\n",
       "      <td>Rice, Mrs. William (Margaret Norton)</td>\n",
       "      <td>female</td>\n",
       "      <td>39.0000</td>\n",
       "      <td>0</td>\n",
       "      <td>5</td>\n",
       "      <td>382652</td>\n",
       "      <td>29.1250</td>\n",
       "      <td>NaN</td>\n",
       "      <td>Q</td>\n",
       "    </tr>\n",
       "    <tr>\n",
       "      <th>886</th>\n",
       "      <td>887</td>\n",
       "      <td>0</td>\n",
       "      <td>2</td>\n",
       "      <td>Montvila, Rev. Juozas</td>\n",
       "      <td>male</td>\n",
       "      <td>27.0000</td>\n",
       "      <td>0</td>\n",
       "      <td>0</td>\n",
       "      <td>211536</td>\n",
       "      <td>13.0000</td>\n",
       "      <td>NaN</td>\n",
       "      <td>S</td>\n",
       "    </tr>\n",
       "    <tr>\n",
       "      <th>887</th>\n",
       "      <td>888</td>\n",
       "      <td>1</td>\n",
       "      <td>1</td>\n",
       "      <td>Graham, Miss. Margaret Edith</td>\n",
       "      <td>female</td>\n",
       "      <td>19.0000</td>\n",
       "      <td>0</td>\n",
       "      <td>0</td>\n",
       "      <td>112053</td>\n",
       "      <td>30.0000</td>\n",
       "      <td>B42</td>\n",
       "      <td>S</td>\n",
       "    </tr>\n",
       "    <tr>\n",
       "      <th>888</th>\n",
       "      <td>889</td>\n",
       "      <td>0</td>\n",
       "      <td>3</td>\n",
       "      <td>Johnston, Miss. Catherine Helen \"Carrie\"</td>\n",
       "      <td>female</td>\n",
       "      <td>NaN</td>\n",
       "      <td>1</td>\n",
       "      <td>2</td>\n",
       "      <td>W./C. 6607</td>\n",
       "      <td>23.4500</td>\n",
       "      <td>NaN</td>\n",
       "      <td>S</td>\n",
       "    </tr>\n",
       "    <tr>\n",
       "      <th>889</th>\n",
       "      <td>890</td>\n",
       "      <td>1</td>\n",
       "      <td>1</td>\n",
       "      <td>Behr, Mr. Karl Howell</td>\n",
       "      <td>male</td>\n",
       "      <td>26.0000</td>\n",
       "      <td>0</td>\n",
       "      <td>0</td>\n",
       "      <td>111369</td>\n",
       "      <td>30.0000</td>\n",
       "      <td>C148</td>\n",
       "      <td>C</td>\n",
       "    </tr>\n",
       "    <tr>\n",
       "      <th>890</th>\n",
       "      <td>891</td>\n",
       "      <td>0</td>\n",
       "      <td>3</td>\n",
       "      <td>Dooley, Mr. Patrick</td>\n",
       "      <td>male</td>\n",
       "      <td>32.0000</td>\n",
       "      <td>0</td>\n",
       "      <td>0</td>\n",
       "      <td>370376</td>\n",
       "      <td>7.7500</td>\n",
       "      <td>NaN</td>\n",
       "      <td>Q</td>\n",
       "    </tr>\n",
       "  </tbody>\n",
       "</table>\n",
       "</div>"
      ],
      "text/plain": [
       "     PassengerId  Survived  Pclass                                      Name  \\\n",
       "881          882         0       3                        Markun, Mr. Johann   \n",
       "882          883         0       3              Dahlberg, Miss. Gerda Ulrika   \n",
       "883          884         0       2             Banfield, Mr. Frederick James   \n",
       "884          885         0       3                    Sutehall, Mr. Henry Jr   \n",
       "885          886         0       3      Rice, Mrs. William (Margaret Norton)   \n",
       "886          887         0       2                     Montvila, Rev. Juozas   \n",
       "887          888         1       1              Graham, Miss. Margaret Edith   \n",
       "888          889         0       3  Johnston, Miss. Catherine Helen \"Carrie\"   \n",
       "889          890         1       1                     Behr, Mr. Karl Howell   \n",
       "890          891         0       3                       Dooley, Mr. Patrick   \n",
       "\n",
       "        Sex     Age  SibSp  Parch            Ticket    Fare Cabin Embarked  \n",
       "881    male 33.0000      0      0            349257  7.8958   NaN        S  \n",
       "882  female 22.0000      0      0              7552 10.5167   NaN        S  \n",
       "883    male 28.0000      0      0  C.A./SOTON 34068 10.5000   NaN        S  \n",
       "884    male 25.0000      0      0   SOTON/OQ 392076  7.0500   NaN        S  \n",
       "885  female 39.0000      0      5            382652 29.1250   NaN        Q  \n",
       "886    male 27.0000      0      0            211536 13.0000   NaN        S  \n",
       "887  female 19.0000      0      0            112053 30.0000   B42        S  \n",
       "888  female     NaN      1      2        W./C. 6607 23.4500   NaN        S  \n",
       "889    male 26.0000      0      0            111369 30.0000  C148        C  \n",
       "890    male 32.0000      0      0            370376  7.7500   NaN        Q  "
      ]
     },
     "execution_count": 7,
     "metadata": {},
     "output_type": "execute_result"
    }
   ],
   "source": [
    "ds_work.tail(10)"
   ]
  },
  {
   "cell_type": "code",
   "execution_count": 8,
   "id": "67c125ad",
   "metadata": {},
   "outputs": [
    {
     "data": {
      "text/html": [
       "<div>\n",
       "<style scoped>\n",
       "    .dataframe tbody tr th:only-of-type {\n",
       "        vertical-align: middle;\n",
       "    }\n",
       "\n",
       "    .dataframe tbody tr th {\n",
       "        vertical-align: top;\n",
       "    }\n",
       "\n",
       "    .dataframe thead th {\n",
       "        text-align: right;\n",
       "    }\n",
       "</style>\n",
       "<table border=\"1\" class=\"dataframe\">\n",
       "  <thead>\n",
       "    <tr style=\"text-align: right;\">\n",
       "      <th></th>\n",
       "      <th>PassengerId</th>\n",
       "      <th>Pclass</th>\n",
       "      <th>Name</th>\n",
       "      <th>Sex</th>\n",
       "      <th>Age</th>\n",
       "      <th>SibSp</th>\n",
       "      <th>Parch</th>\n",
       "      <th>Ticket</th>\n",
       "      <th>Fare</th>\n",
       "      <th>Cabin</th>\n",
       "      <th>Embarked</th>\n",
       "    </tr>\n",
       "  </thead>\n",
       "  <tbody>\n",
       "    <tr>\n",
       "      <th>408</th>\n",
       "      <td>1300</td>\n",
       "      <td>3</td>\n",
       "      <td>Riordan, Miss. Johanna Hannah\"\"</td>\n",
       "      <td>female</td>\n",
       "      <td>NaN</td>\n",
       "      <td>0</td>\n",
       "      <td>0</td>\n",
       "      <td>334915</td>\n",
       "      <td>7.7208</td>\n",
       "      <td>NaN</td>\n",
       "      <td>Q</td>\n",
       "    </tr>\n",
       "    <tr>\n",
       "      <th>409</th>\n",
       "      <td>1301</td>\n",
       "      <td>3</td>\n",
       "      <td>Peacock, Miss. Treasteall</td>\n",
       "      <td>female</td>\n",
       "      <td>3.0000</td>\n",
       "      <td>1</td>\n",
       "      <td>1</td>\n",
       "      <td>SOTON/O.Q. 3101315</td>\n",
       "      <td>13.7750</td>\n",
       "      <td>NaN</td>\n",
       "      <td>S</td>\n",
       "    </tr>\n",
       "    <tr>\n",
       "      <th>410</th>\n",
       "      <td>1302</td>\n",
       "      <td>3</td>\n",
       "      <td>Naughton, Miss. Hannah</td>\n",
       "      <td>female</td>\n",
       "      <td>NaN</td>\n",
       "      <td>0</td>\n",
       "      <td>0</td>\n",
       "      <td>365237</td>\n",
       "      <td>7.7500</td>\n",
       "      <td>NaN</td>\n",
       "      <td>Q</td>\n",
       "    </tr>\n",
       "    <tr>\n",
       "      <th>411</th>\n",
       "      <td>1303</td>\n",
       "      <td>1</td>\n",
       "      <td>Minahan, Mrs. William Edward (Lillian E Thorpe)</td>\n",
       "      <td>female</td>\n",
       "      <td>37.0000</td>\n",
       "      <td>1</td>\n",
       "      <td>0</td>\n",
       "      <td>19928</td>\n",
       "      <td>90.0000</td>\n",
       "      <td>C78</td>\n",
       "      <td>Q</td>\n",
       "    </tr>\n",
       "    <tr>\n",
       "      <th>412</th>\n",
       "      <td>1304</td>\n",
       "      <td>3</td>\n",
       "      <td>Henriksson, Miss. Jenny Lovisa</td>\n",
       "      <td>female</td>\n",
       "      <td>28.0000</td>\n",
       "      <td>0</td>\n",
       "      <td>0</td>\n",
       "      <td>347086</td>\n",
       "      <td>7.7750</td>\n",
       "      <td>NaN</td>\n",
       "      <td>S</td>\n",
       "    </tr>\n",
       "    <tr>\n",
       "      <th>413</th>\n",
       "      <td>1305</td>\n",
       "      <td>3</td>\n",
       "      <td>Spector, Mr. Woolf</td>\n",
       "      <td>male</td>\n",
       "      <td>NaN</td>\n",
       "      <td>0</td>\n",
       "      <td>0</td>\n",
       "      <td>A.5. 3236</td>\n",
       "      <td>8.0500</td>\n",
       "      <td>NaN</td>\n",
       "      <td>S</td>\n",
       "    </tr>\n",
       "    <tr>\n",
       "      <th>414</th>\n",
       "      <td>1306</td>\n",
       "      <td>1</td>\n",
       "      <td>Oliva y Ocana, Dona. Fermina</td>\n",
       "      <td>female</td>\n",
       "      <td>39.0000</td>\n",
       "      <td>0</td>\n",
       "      <td>0</td>\n",
       "      <td>PC 17758</td>\n",
       "      <td>108.9000</td>\n",
       "      <td>C105</td>\n",
       "      <td>C</td>\n",
       "    </tr>\n",
       "    <tr>\n",
       "      <th>415</th>\n",
       "      <td>1307</td>\n",
       "      <td>3</td>\n",
       "      <td>Saether, Mr. Simon Sivertsen</td>\n",
       "      <td>male</td>\n",
       "      <td>38.5000</td>\n",
       "      <td>0</td>\n",
       "      <td>0</td>\n",
       "      <td>SOTON/O.Q. 3101262</td>\n",
       "      <td>7.2500</td>\n",
       "      <td>NaN</td>\n",
       "      <td>S</td>\n",
       "    </tr>\n",
       "    <tr>\n",
       "      <th>416</th>\n",
       "      <td>1308</td>\n",
       "      <td>3</td>\n",
       "      <td>Ware, Mr. Frederick</td>\n",
       "      <td>male</td>\n",
       "      <td>NaN</td>\n",
       "      <td>0</td>\n",
       "      <td>0</td>\n",
       "      <td>359309</td>\n",
       "      <td>8.0500</td>\n",
       "      <td>NaN</td>\n",
       "      <td>S</td>\n",
       "    </tr>\n",
       "    <tr>\n",
       "      <th>417</th>\n",
       "      <td>1309</td>\n",
       "      <td>3</td>\n",
       "      <td>Peter, Master. Michael J</td>\n",
       "      <td>male</td>\n",
       "      <td>NaN</td>\n",
       "      <td>1</td>\n",
       "      <td>1</td>\n",
       "      <td>2668</td>\n",
       "      <td>22.3583</td>\n",
       "      <td>NaN</td>\n",
       "      <td>C</td>\n",
       "    </tr>\n",
       "  </tbody>\n",
       "</table>\n",
       "</div>"
      ],
      "text/plain": [
       "     PassengerId  Pclass                                             Name  \\\n",
       "408         1300       3                  Riordan, Miss. Johanna Hannah\"\"   \n",
       "409         1301       3                        Peacock, Miss. Treasteall   \n",
       "410         1302       3                           Naughton, Miss. Hannah   \n",
       "411         1303       1  Minahan, Mrs. William Edward (Lillian E Thorpe)   \n",
       "412         1304       3                   Henriksson, Miss. Jenny Lovisa   \n",
       "413         1305       3                               Spector, Mr. Woolf   \n",
       "414         1306       1                     Oliva y Ocana, Dona. Fermina   \n",
       "415         1307       3                     Saether, Mr. Simon Sivertsen   \n",
       "416         1308       3                              Ware, Mr. Frederick   \n",
       "417         1309       3                         Peter, Master. Michael J   \n",
       "\n",
       "        Sex     Age  SibSp  Parch              Ticket     Fare Cabin Embarked  \n",
       "408  female     NaN      0      0              334915   7.7208   NaN        Q  \n",
       "409  female  3.0000      1      1  SOTON/O.Q. 3101315  13.7750   NaN        S  \n",
       "410  female     NaN      0      0              365237   7.7500   NaN        Q  \n",
       "411  female 37.0000      1      0               19928  90.0000   C78        Q  \n",
       "412  female 28.0000      0      0              347086   7.7750   NaN        S  \n",
       "413    male     NaN      0      0           A.5. 3236   8.0500   NaN        S  \n",
       "414  female 39.0000      0      0            PC 17758 108.9000  C105        C  \n",
       "415    male 38.5000      0      0  SOTON/O.Q. 3101262   7.2500   NaN        S  \n",
       "416    male     NaN      0      0              359309   8.0500   NaN        S  \n",
       "417    male     NaN      1      1                2668  22.3583   NaN        C  "
      ]
     },
     "execution_count": 8,
     "metadata": {},
     "output_type": "execute_result"
    }
   ],
   "source": [
    "ds_test.tail(10)"
   ]
  },
  {
   "cell_type": "markdown",
   "id": "7f34a8ec",
   "metadata": {},
   "source": [
    "Show 10 random registers"
   ]
  },
  {
   "cell_type": "code",
   "execution_count": 9,
   "id": "a864a042",
   "metadata": {},
   "outputs": [
    {
     "data": {
      "text/html": [
       "<div>\n",
       "<style scoped>\n",
       "    .dataframe tbody tr th:only-of-type {\n",
       "        vertical-align: middle;\n",
       "    }\n",
       "\n",
       "    .dataframe tbody tr th {\n",
       "        vertical-align: top;\n",
       "    }\n",
       "\n",
       "    .dataframe thead th {\n",
       "        text-align: right;\n",
       "    }\n",
       "</style>\n",
       "<table border=\"1\" class=\"dataframe\">\n",
       "  <thead>\n",
       "    <tr style=\"text-align: right;\">\n",
       "      <th></th>\n",
       "      <th>PassengerId</th>\n",
       "      <th>Survived</th>\n",
       "      <th>Pclass</th>\n",
       "      <th>Name</th>\n",
       "      <th>Sex</th>\n",
       "      <th>Age</th>\n",
       "      <th>SibSp</th>\n",
       "      <th>Parch</th>\n",
       "      <th>Ticket</th>\n",
       "      <th>Fare</th>\n",
       "      <th>Cabin</th>\n",
       "      <th>Embarked</th>\n",
       "    </tr>\n",
       "  </thead>\n",
       "  <tbody>\n",
       "    <tr>\n",
       "      <th>773</th>\n",
       "      <td>774</td>\n",
       "      <td>0</td>\n",
       "      <td>3</td>\n",
       "      <td>Elias, Mr. Dibo</td>\n",
       "      <td>male</td>\n",
       "      <td>NaN</td>\n",
       "      <td>0</td>\n",
       "      <td>0</td>\n",
       "      <td>2674</td>\n",
       "      <td>7.2250</td>\n",
       "      <td>NaN</td>\n",
       "      <td>C</td>\n",
       "    </tr>\n",
       "    <tr>\n",
       "      <th>357</th>\n",
       "      <td>358</td>\n",
       "      <td>0</td>\n",
       "      <td>2</td>\n",
       "      <td>Funk, Miss. Annie Clemmer</td>\n",
       "      <td>female</td>\n",
       "      <td>38.0000</td>\n",
       "      <td>0</td>\n",
       "      <td>0</td>\n",
       "      <td>237671</td>\n",
       "      <td>13.0000</td>\n",
       "      <td>NaN</td>\n",
       "      <td>S</td>\n",
       "    </tr>\n",
       "    <tr>\n",
       "      <th>142</th>\n",
       "      <td>143</td>\n",
       "      <td>1</td>\n",
       "      <td>3</td>\n",
       "      <td>Hakkarainen, Mrs. Pekka Pietari (Elin Matilda Dolck)</td>\n",
       "      <td>female</td>\n",
       "      <td>24.0000</td>\n",
       "      <td>1</td>\n",
       "      <td>0</td>\n",
       "      <td>STON/O2. 3101279</td>\n",
       "      <td>15.8500</td>\n",
       "      <td>NaN</td>\n",
       "      <td>S</td>\n",
       "    </tr>\n",
       "    <tr>\n",
       "      <th>886</th>\n",
       "      <td>887</td>\n",
       "      <td>0</td>\n",
       "      <td>2</td>\n",
       "      <td>Montvila, Rev. Juozas</td>\n",
       "      <td>male</td>\n",
       "      <td>27.0000</td>\n",
       "      <td>0</td>\n",
       "      <td>0</td>\n",
       "      <td>211536</td>\n",
       "      <td>13.0000</td>\n",
       "      <td>NaN</td>\n",
       "      <td>S</td>\n",
       "    </tr>\n",
       "    <tr>\n",
       "      <th>665</th>\n",
       "      <td>666</td>\n",
       "      <td>0</td>\n",
       "      <td>2</td>\n",
       "      <td>Hickman, Mr. Lewis</td>\n",
       "      <td>male</td>\n",
       "      <td>32.0000</td>\n",
       "      <td>2</td>\n",
       "      <td>0</td>\n",
       "      <td>S.O.C. 14879</td>\n",
       "      <td>73.5000</td>\n",
       "      <td>NaN</td>\n",
       "      <td>S</td>\n",
       "    </tr>\n",
       "    <tr>\n",
       "      <th>234</th>\n",
       "      <td>235</td>\n",
       "      <td>0</td>\n",
       "      <td>2</td>\n",
       "      <td>Leyson, Mr. Robert William Norman</td>\n",
       "      <td>male</td>\n",
       "      <td>24.0000</td>\n",
       "      <td>0</td>\n",
       "      <td>0</td>\n",
       "      <td>C.A. 29566</td>\n",
       "      <td>10.5000</td>\n",
       "      <td>NaN</td>\n",
       "      <td>S</td>\n",
       "    </tr>\n",
       "    <tr>\n",
       "      <th>226</th>\n",
       "      <td>227</td>\n",
       "      <td>1</td>\n",
       "      <td>2</td>\n",
       "      <td>Mellors, Mr. William John</td>\n",
       "      <td>male</td>\n",
       "      <td>19.0000</td>\n",
       "      <td>0</td>\n",
       "      <td>0</td>\n",
       "      <td>SW/PP 751</td>\n",
       "      <td>10.5000</td>\n",
       "      <td>NaN</td>\n",
       "      <td>S</td>\n",
       "    </tr>\n",
       "    <tr>\n",
       "      <th>698</th>\n",
       "      <td>699</td>\n",
       "      <td>0</td>\n",
       "      <td>1</td>\n",
       "      <td>Thayer, Mr. John Borland</td>\n",
       "      <td>male</td>\n",
       "      <td>49.0000</td>\n",
       "      <td>1</td>\n",
       "      <td>1</td>\n",
       "      <td>17421</td>\n",
       "      <td>110.8833</td>\n",
       "      <td>C68</td>\n",
       "      <td>C</td>\n",
       "    </tr>\n",
       "    <tr>\n",
       "      <th>617</th>\n",
       "      <td>618</td>\n",
       "      <td>0</td>\n",
       "      <td>3</td>\n",
       "      <td>Lobb, Mrs. William Arthur (Cordelia K Stanlick)</td>\n",
       "      <td>female</td>\n",
       "      <td>26.0000</td>\n",
       "      <td>1</td>\n",
       "      <td>0</td>\n",
       "      <td>A/5. 3336</td>\n",
       "      <td>16.1000</td>\n",
       "      <td>NaN</td>\n",
       "      <td>S</td>\n",
       "    </tr>\n",
       "    <tr>\n",
       "      <th>454</th>\n",
       "      <td>455</td>\n",
       "      <td>0</td>\n",
       "      <td>3</td>\n",
       "      <td>Peduzzi, Mr. Joseph</td>\n",
       "      <td>male</td>\n",
       "      <td>NaN</td>\n",
       "      <td>0</td>\n",
       "      <td>0</td>\n",
       "      <td>A/5 2817</td>\n",
       "      <td>8.0500</td>\n",
       "      <td>NaN</td>\n",
       "      <td>S</td>\n",
       "    </tr>\n",
       "  </tbody>\n",
       "</table>\n",
       "</div>"
      ],
      "text/plain": [
       "     PassengerId  Survived  Pclass  \\\n",
       "773          774         0       3   \n",
       "357          358         0       2   \n",
       "142          143         1       3   \n",
       "886          887         0       2   \n",
       "665          666         0       2   \n",
       "234          235         0       2   \n",
       "226          227         1       2   \n",
       "698          699         0       1   \n",
       "617          618         0       3   \n",
       "454          455         0       3   \n",
       "\n",
       "                                                     Name     Sex     Age  \\\n",
       "773                                       Elias, Mr. Dibo    male     NaN   \n",
       "357                             Funk, Miss. Annie Clemmer  female 38.0000   \n",
       "142  Hakkarainen, Mrs. Pekka Pietari (Elin Matilda Dolck)  female 24.0000   \n",
       "886                                 Montvila, Rev. Juozas    male 27.0000   \n",
       "665                                    Hickman, Mr. Lewis    male 32.0000   \n",
       "234                     Leyson, Mr. Robert William Norman    male 24.0000   \n",
       "226                             Mellors, Mr. William John    male 19.0000   \n",
       "698                              Thayer, Mr. John Borland    male 49.0000   \n",
       "617       Lobb, Mrs. William Arthur (Cordelia K Stanlick)  female 26.0000   \n",
       "454                                   Peduzzi, Mr. Joseph    male     NaN   \n",
       "\n",
       "     SibSp  Parch            Ticket     Fare Cabin Embarked  \n",
       "773      0      0              2674   7.2250   NaN        C  \n",
       "357      0      0            237671  13.0000   NaN        S  \n",
       "142      1      0  STON/O2. 3101279  15.8500   NaN        S  \n",
       "886      0      0            211536  13.0000   NaN        S  \n",
       "665      2      0      S.O.C. 14879  73.5000   NaN        S  \n",
       "234      0      0        C.A. 29566  10.5000   NaN        S  \n",
       "226      0      0         SW/PP 751  10.5000   NaN        S  \n",
       "698      1      1             17421 110.8833   C68        C  \n",
       "617      1      0         A/5. 3336  16.1000   NaN        S  \n",
       "454      0      0          A/5 2817   8.0500   NaN        S  "
      ]
     },
     "execution_count": 9,
     "metadata": {},
     "output_type": "execute_result"
    }
   ],
   "source": [
    "ds_work.sample(10)"
   ]
  },
  {
   "cell_type": "code",
   "execution_count": 10,
   "id": "d8928b99",
   "metadata": {},
   "outputs": [
    {
     "data": {
      "text/html": [
       "<div>\n",
       "<style scoped>\n",
       "    .dataframe tbody tr th:only-of-type {\n",
       "        vertical-align: middle;\n",
       "    }\n",
       "\n",
       "    .dataframe tbody tr th {\n",
       "        vertical-align: top;\n",
       "    }\n",
       "\n",
       "    .dataframe thead th {\n",
       "        text-align: right;\n",
       "    }\n",
       "</style>\n",
       "<table border=\"1\" class=\"dataframe\">\n",
       "  <thead>\n",
       "    <tr style=\"text-align: right;\">\n",
       "      <th></th>\n",
       "      <th>PassengerId</th>\n",
       "      <th>Pclass</th>\n",
       "      <th>Name</th>\n",
       "      <th>Sex</th>\n",
       "      <th>Age</th>\n",
       "      <th>SibSp</th>\n",
       "      <th>Parch</th>\n",
       "      <th>Ticket</th>\n",
       "      <th>Fare</th>\n",
       "      <th>Cabin</th>\n",
       "      <th>Embarked</th>\n",
       "    </tr>\n",
       "  </thead>\n",
       "  <tbody>\n",
       "    <tr>\n",
       "      <th>337</th>\n",
       "      <td>1229</td>\n",
       "      <td>3</td>\n",
       "      <td>Elias, Mr. Joseph</td>\n",
       "      <td>male</td>\n",
       "      <td>39.0000</td>\n",
       "      <td>0</td>\n",
       "      <td>2</td>\n",
       "      <td>2675</td>\n",
       "      <td>7.2292</td>\n",
       "      <td>NaN</td>\n",
       "      <td>C</td>\n",
       "    </tr>\n",
       "    <tr>\n",
       "      <th>129</th>\n",
       "      <td>1021</td>\n",
       "      <td>3</td>\n",
       "      <td>Petersen, Mr. Marius</td>\n",
       "      <td>male</td>\n",
       "      <td>24.0000</td>\n",
       "      <td>0</td>\n",
       "      <td>0</td>\n",
       "      <td>342441</td>\n",
       "      <td>8.0500</td>\n",
       "      <td>NaN</td>\n",
       "      <td>S</td>\n",
       "    </tr>\n",
       "    <tr>\n",
       "      <th>99</th>\n",
       "      <td>991</td>\n",
       "      <td>3</td>\n",
       "      <td>Nancarrow, Mr. William Henry</td>\n",
       "      <td>male</td>\n",
       "      <td>33.0000</td>\n",
       "      <td>0</td>\n",
       "      <td>0</td>\n",
       "      <td>A./5. 3338</td>\n",
       "      <td>8.0500</td>\n",
       "      <td>NaN</td>\n",
       "      <td>S</td>\n",
       "    </tr>\n",
       "    <tr>\n",
       "      <th>121</th>\n",
       "      <td>1013</td>\n",
       "      <td>3</td>\n",
       "      <td>Kiernan, Mr. John</td>\n",
       "      <td>male</td>\n",
       "      <td>NaN</td>\n",
       "      <td>1</td>\n",
       "      <td>0</td>\n",
       "      <td>367227</td>\n",
       "      <td>7.7500</td>\n",
       "      <td>NaN</td>\n",
       "      <td>Q</td>\n",
       "    </tr>\n",
       "    <tr>\n",
       "      <th>220</th>\n",
       "      <td>1112</td>\n",
       "      <td>2</td>\n",
       "      <td>Duran y More, Miss. Florentina</td>\n",
       "      <td>female</td>\n",
       "      <td>30.0000</td>\n",
       "      <td>1</td>\n",
       "      <td>0</td>\n",
       "      <td>SC/PARIS 2148</td>\n",
       "      <td>13.8583</td>\n",
       "      <td>NaN</td>\n",
       "      <td>C</td>\n",
       "    </tr>\n",
       "    <tr>\n",
       "      <th>407</th>\n",
       "      <td>1299</td>\n",
       "      <td>1</td>\n",
       "      <td>Widener, Mr. George Dunton</td>\n",
       "      <td>male</td>\n",
       "      <td>50.0000</td>\n",
       "      <td>1</td>\n",
       "      <td>1</td>\n",
       "      <td>113503</td>\n",
       "      <td>211.5000</td>\n",
       "      <td>C80</td>\n",
       "      <td>C</td>\n",
       "    </tr>\n",
       "    <tr>\n",
       "      <th>361</th>\n",
       "      <td>1253</td>\n",
       "      <td>2</td>\n",
       "      <td>Mallet, Mrs. Albert (Antoinette Magnin)</td>\n",
       "      <td>female</td>\n",
       "      <td>24.0000</td>\n",
       "      <td>1</td>\n",
       "      <td>1</td>\n",
       "      <td>S.C./PARIS 2079</td>\n",
       "      <td>37.0042</td>\n",
       "      <td>NaN</td>\n",
       "      <td>C</td>\n",
       "    </tr>\n",
       "    <tr>\n",
       "      <th>104</th>\n",
       "      <td>996</td>\n",
       "      <td>3</td>\n",
       "      <td>Thomas, Mrs. Alexander (Thamine Thelma\")\"</td>\n",
       "      <td>female</td>\n",
       "      <td>16.0000</td>\n",
       "      <td>1</td>\n",
       "      <td>1</td>\n",
       "      <td>2625</td>\n",
       "      <td>8.5167</td>\n",
       "      <td>NaN</td>\n",
       "      <td>C</td>\n",
       "    </tr>\n",
       "    <tr>\n",
       "      <th>322</th>\n",
       "      <td>1214</td>\n",
       "      <td>2</td>\n",
       "      <td>Nesson, Mr. Israel</td>\n",
       "      <td>male</td>\n",
       "      <td>26.0000</td>\n",
       "      <td>0</td>\n",
       "      <td>0</td>\n",
       "      <td>244368</td>\n",
       "      <td>13.0000</td>\n",
       "      <td>F2</td>\n",
       "      <td>S</td>\n",
       "    </tr>\n",
       "    <tr>\n",
       "      <th>335</th>\n",
       "      <td>1227</td>\n",
       "      <td>1</td>\n",
       "      <td>Maguire, Mr. John Edward</td>\n",
       "      <td>male</td>\n",
       "      <td>30.0000</td>\n",
       "      <td>0</td>\n",
       "      <td>0</td>\n",
       "      <td>110469</td>\n",
       "      <td>26.0000</td>\n",
       "      <td>C106</td>\n",
       "      <td>S</td>\n",
       "    </tr>\n",
       "  </tbody>\n",
       "</table>\n",
       "</div>"
      ],
      "text/plain": [
       "     PassengerId  Pclass                                       Name     Sex  \\\n",
       "337         1229       3                          Elias, Mr. Joseph    male   \n",
       "129         1021       3                       Petersen, Mr. Marius    male   \n",
       "99           991       3               Nancarrow, Mr. William Henry    male   \n",
       "121         1013       3                          Kiernan, Mr. John    male   \n",
       "220         1112       2             Duran y More, Miss. Florentina  female   \n",
       "407         1299       1                 Widener, Mr. George Dunton    male   \n",
       "361         1253       2    Mallet, Mrs. Albert (Antoinette Magnin)  female   \n",
       "104          996       3  Thomas, Mrs. Alexander (Thamine Thelma\")\"  female   \n",
       "322         1214       2                         Nesson, Mr. Israel    male   \n",
       "335         1227       1                   Maguire, Mr. John Edward    male   \n",
       "\n",
       "        Age  SibSp  Parch           Ticket     Fare Cabin Embarked  \n",
       "337 39.0000      0      2             2675   7.2292   NaN        C  \n",
       "129 24.0000      0      0           342441   8.0500   NaN        S  \n",
       "99  33.0000      0      0       A./5. 3338   8.0500   NaN        S  \n",
       "121     NaN      1      0           367227   7.7500   NaN        Q  \n",
       "220 30.0000      1      0    SC/PARIS 2148  13.8583   NaN        C  \n",
       "407 50.0000      1      1           113503 211.5000   C80        C  \n",
       "361 24.0000      1      1  S.C./PARIS 2079  37.0042   NaN        C  \n",
       "104 16.0000      1      1             2625   8.5167   NaN        C  \n",
       "322 26.0000      0      0           244368  13.0000    F2        S  \n",
       "335 30.0000      0      0           110469  26.0000  C106        S  "
      ]
     },
     "execution_count": 10,
     "metadata": {},
     "output_type": "execute_result"
    }
   ],
   "source": [
    "ds_test.sample(10)"
   ]
  },
  {
   "cell_type": "markdown",
   "id": "b69e6f6e",
   "metadata": {},
   "source": [
    "Shapes of datasets"
   ]
  },
  {
   "cell_type": "code",
   "execution_count": 11,
   "id": "a2070bf4",
   "metadata": {},
   "outputs": [
    {
     "data": {
      "text/plain": [
       "(891, 12)"
      ]
     },
     "execution_count": 11,
     "metadata": {},
     "output_type": "execute_result"
    }
   ],
   "source": [
    "ds_work.shape"
   ]
  },
  {
   "cell_type": "code",
   "execution_count": 12,
   "id": "f4e39cba",
   "metadata": {},
   "outputs": [
    {
     "data": {
      "text/plain": [
       "(418, 11)"
      ]
     },
     "execution_count": 12,
     "metadata": {},
     "output_type": "execute_result"
    }
   ],
   "source": [
    "ds_test.shape"
   ]
  },
  {
   "cell_type": "markdown",
   "id": "e12948e1",
   "metadata": {},
   "source": [
    "# Checking correlation between Fare and Pclass"
   ]
  },
  {
   "cell_type": "markdown",
   "id": "8d7b296a",
   "metadata": {},
   "source": [
    "We saw in the heatmap that Fare and Pclass are highly correlated. Let's now check their relation using a scatterplot."
   ]
  },
  {
   "cell_type": "code",
   "execution_count": 29,
   "id": "a10ca9ad",
   "metadata": {
    "scrolled": false
   },
   "outputs": [
    {
     "data": {
      "image/png": "[encoded data removed]",
      "text/plain": [
       "<Figure size 500x500 with 1 Axes>"
      ]
     },
     "metadata": {},
     "output_type": "display_data"
    }
   ],
   "source": [
    "plt.figure(figsize = (5, 5))\n",
    "sns.scatterplot(data = ds_work, x = \"Pclass\" , y = \"Fare\")\n",
    "plt.show()"
   ]
  },
  {
   "cell_type": "markdown",
   "id": "4dcfa735",
   "metadata": {},
   "source": [
    "As the heatmap said, they have a negative correlation. The higher the Pclass, the lower the Fare might be, which makes sense in real life."
   ]
  },
  {
   "cell_type": "markdown",
   "id": "78ccd9fe",
   "metadata": {},
   "source": [
    "Given their high correlation, we can delete one of them. We are going to delete the Pclass feature, since the Fare could still give us valuable information."
   ]
  },
  {
   "cell_type": "code",
   "execution_count": 30,
   "id": "a3a1614c",
   "metadata": {},
   "outputs": [],
   "source": [
    "ds_work.drop([\"Pclass\"], axis = 1, inplace = True)"
   ]
  },
  {
   "cell_type": "code",
   "execution_count": 31,
   "id": "a5dd3249",
   "metadata": {},
   "outputs": [],
   "source": [
    "ds_test.drop([\"Pclass\"], axis = 1, inplace = True)"
   ]
  },
  {
   "cell_type": "markdown",
   "id": "8c4c2092",
   "metadata": {},
   "source": [
    "# Delete unnecesary features"
   ]
  },
  {
   "cell_type": "markdown",
   "id": "aa09debe",
   "metadata": {},
   "source": [
    "We found that Ticket doesn't give relevant information about whether a passenger died or not. Even repeated tickets don't give any information about that. So let's delete Ticket from our datasets"
   ]
  },
  {
   "cell_type": "code",
   "execution_count": 32,
   "id": "1d96f94d",
   "metadata": {},
   "outputs": [],
   "source": [
    "ds_work.drop([\"Ticket\"], axis = 1, inplace = True)"
   ]
  },
  {
   "cell_type": "code",
   "execution_count": 33,
   "id": "7c62a92d",
   "metadata": {},
   "outputs": [],
   "source": [
    "ds_test.drop([\"Ticket\"], axis = 1, inplace = True)"
   ]
  },
  {
   "cell_type": "markdown",
   "id": "4182426a",
   "metadata": {},
   "source": [
    "Finally, since Cabin has 77% null values, and it doesn't give information about dead or survived passenger, we delete it"
   ]
  },
  {
   "cell_type": "code",
   "execution_count": 34,
   "id": "1cf7e6a0",
   "metadata": {},
   "outputs": [],
   "source": [
    "ds_work.drop([\"Cabin\"], axis = 1, inplace = True)"
   ]
  },
  {
   "cell_type": "code",
   "execution_count": 35,
   "id": "7c786a8e",
   "metadata": {},
   "outputs": [],
   "source": [
    "ds_test.drop([\"Cabin\"], axis = 1, inplace = True)"
   ]
  },
  {
   "cell_type": "markdown",
   "id": "79dbe1c8",
   "metadata": {},
   "source": [
    "We check the new shapes of the datasets, they should have 2 less features"
   ]
  },
  {
   "cell_type": "code",
   "execution_count": 36,
   "id": "61d4869b",
   "metadata": {},
   "outputs": [
    {
     "data": {
      "text/plain": [
       "(891, 9)"
      ]
     },
     "execution_count": 36,
     "metadata": {},
     "output_type": "execute_result"
    }
   ],
   "source": [
    "ds_work.shape"
   ]
  },
  {
   "cell_type": "code",
   "execution_count": 37,
   "id": "c9d05be3",
   "metadata": {},
   "outputs": [
    {
     "data": {
      "text/plain": [
       "(418, 8)"
      ]
     },
     "execution_count": 37,
     "metadata": {},
     "output_type": "execute_result"
    }
   ],
   "source": [
    "ds_test.shape"
   ]
  },
  {
   "cell_type": "markdown",
   "id": "8c5bc975",
   "metadata": {},
   "source": [
    "# Treating null values"
   ]
  },
  {
   "cell_type": "markdown",
   "id": "6743ca9b",
   "metadata": {},
   "source": [
    "## Age null values"
   ]
  },
  {
   "cell_type": "markdown",
   "id": "dc9c1809",
   "metadata": {},
   "source": [
    "Before treating null values in Age, let's make a histogram for it"
   ]
  },
  {
   "cell_type": "code",
   "execution_count": 38,
   "id": "33ddbcc8",
   "metadata": {},
   "outputs": [
    {
     "data": {
      "text/plain": [
       "<AxesSubplot: xlabel='Age', ylabel='Count'>"
      ]
     },
     "execution_count": 38,
     "metadata": {},
     "output_type": "execute_result"
    },
    {
     "data": {
      "image/png": "[encoded data removed]",
      "text/plain": [
       "<Figure size 1500x700 with 1 Axes>"
      ]
     },
     "metadata": {},
     "output_type": "display_data"
    }
   ],
   "source": [
    "sns.histplot(data = ds_work, x = \"Age\", bins = 30)"
   ]
  },
  {
   "cell_type": "markdown",
   "id": "3bf0b38a",
   "metadata": {},
   "source": [
    "As an additional comment, it seems like ages around 70 could be outliers, which we are going to analyze later."
   ]
  },
  {
   "cell_type": "markdown",
   "id": "4b5b1a5b",
   "metadata": {},
   "source": [
    "Let's take a better look at certain percentiles for Age"
   ]
  },
  {
   "cell_type": "code",
   "execution_count": 39,
   "id": "8942e817",
   "metadata": {},
   "outputs": [
    {
     "data": {
      "text/html": [
       "<div>\n",
       "<style scoped>\n",
       "    .dataframe tbody tr th:only-of-type {\n",
       "        vertical-align: middle;\n",
       "    }\n",
       "\n",
       "    .dataframe tbody tr th {\n",
       "        vertical-align: top;\n",
       "    }\n",
       "\n",
       "    .dataframe thead th {\n",
       "        text-align: right;\n",
       "    }\n",
       "</style>\n",
       "<table border=\"1\" class=\"dataframe\">\n",
       "  <thead>\n",
       "    <tr style=\"text-align: right;\">\n",
       "      <th></th>\n",
       "      <th>Age</th>\n",
       "    </tr>\n",
       "  </thead>\n",
       "  <tbody>\n",
       "    <tr>\n",
       "      <th>count</th>\n",
       "      <td>714.0000</td>\n",
       "    </tr>\n",
       "    <tr>\n",
       "      <th>mean</th>\n",
       "      <td>29.6991</td>\n",
       "    </tr>\n",
       "    <tr>\n",
       "      <th>std</th>\n",
       "      <td>14.5265</td>\n",
       "    </tr>\n",
       "    <tr>\n",
       "      <th>min</th>\n",
       "      <td>0.4200</td>\n",
       "    </tr>\n",
       "    <tr>\n",
       "      <th>25%</th>\n",
       "      <td>20.1250</td>\n",
       "    </tr>\n",
       "    <tr>\n",
       "      <th>30%</th>\n",
       "      <td>22.0000</td>\n",
       "    </tr>\n",
       "    <tr>\n",
       "      <th>40%</th>\n",
       "      <td>25.0000</td>\n",
       "    </tr>\n",
       "    <tr>\n",
       "      <th>50%</th>\n",
       "      <td>28.0000</td>\n",
       "    </tr>\n",
       "    <tr>\n",
       "      <th>60%</th>\n",
       "      <td>31.8000</td>\n",
       "    </tr>\n",
       "    <tr>\n",
       "      <th>70%</th>\n",
       "      <td>36.0000</td>\n",
       "    </tr>\n",
       "    <tr>\n",
       "      <th>75%</th>\n",
       "      <td>38.0000</td>\n",
       "    </tr>\n",
       "    <tr>\n",
       "      <th>max</th>\n",
       "      <td>80.0000</td>\n",
       "    </tr>\n",
       "  </tbody>\n",
       "</table>\n",
       "</div>"
      ],
      "text/plain": [
       "           Age\n",
       "count 714.0000\n",
       "mean   29.6991\n",
       "std    14.5265\n",
       "min     0.4200\n",
       "25%    20.1250\n",
       "30%    22.0000\n",
       "40%    25.0000\n",
       "50%    28.0000\n",
       "60%    31.8000\n",
       "70%    36.0000\n",
       "75%    38.0000\n",
       "max    80.0000"
      ]
     },
     "execution_count": 39,
     "metadata": {},
     "output_type": "execute_result"
    }
   ],
   "source": [
    "ds_work[[\"Age\"]].describe(percentiles = [0.25, 0.30, 0.40, 0.50, 0.60, 0.7, 0.75])"
   ]
  },
  {
   "cell_type": "markdown",
   "id": "8ce1be35",
   "metadata": {},
   "source": [
    "From the histogram and percentiles we can conclude that most people are or were between 18 and 35 years old"
   ]
  },
  {
   "cell_type": "markdown",
   "id": "5d138704",
   "metadata": {},
   "source": [
    "We found that Age had 177 null values (20% of the dataset). Since age seems like a more relevant feature, and we could lose valuable information by droping rows with null values for Age, we can replace those null values with zeroes."
   ]
  },
  {
   "cell_type": "code",
   "execution_count": 40,
   "id": "127feaf3",
   "metadata": {},
   "outputs": [],
   "source": [
    "ds_work[\"Age\"].fillna(0, inplace = True)"
   ]
  },
  {
   "cell_type": "code",
   "execution_count": 41,
   "id": "fb23e781",
   "metadata": {},
   "outputs": [],
   "source": [
    "ds_test[\"Age\"].fillna(0, inplace = True)"
   ]
  },
  {
   "cell_type": "markdown",
   "id": "5f4afefa",
   "metadata": {},
   "source": [
    "Now let's check again the histogram for Age"
   ]
  },
  {
   "cell_type": "code",
   "execution_count": 42,
   "id": "8cbf5737",
   "metadata": {},
   "outputs": [
    {
     "data": {
      "text/plain": [
       "<AxesSubplot: xlabel='Age', ylabel='Count'>"
      ]
     },
     "execution_count": 42,
     "metadata": {},
     "output_type": "execute_result"
    },
    {
     "data": {
      "image/png": "[encoded data removed]",
      "text/plain": [
       "<Figure size 1500x700 with 1 Axes>"
      ]
     },
     "metadata": {},
     "output_type": "display_data"
    }
   ],
   "source": [
    "sns.histplot(data = ds_work, x = \"Age\", bins = 30)"
   ]
  },
  {
   "cell_type": "markdown",
   "id": "c587253b",
   "metadata": {},
   "source": [
    "Now, the graph is skewed. We could solve this later by applying some transformation or normalization."
   ]
  },
  {
   "cell_type": "markdown",
   "id": "2429e515",
   "metadata": {},
   "source": [
    "## Embarked null values"
   ]
  },
  {
   "cell_type": "markdown",
   "id": "b83d8751",
   "metadata": {},
   "source": [
    "We found that Embarked had 2 null values, We can check those rows with null values for Embarked"
   ]
  },
  {
   "cell_type": "code",
   "execution_count": 43,
   "id": "b3df8118",
   "metadata": {},
   "outputs": [
    {
     "data": {
      "text/html": [
       "<div>\n",
       "<style scoped>\n",
       "    .dataframe tbody tr th:only-of-type {\n",
       "        vertical-align: middle;\n",
       "    }\n",
       "\n",
       "    .dataframe tbody tr th {\n",
       "        vertical-align: top;\n",
       "    }\n",
       "\n",
       "    .dataframe thead th {\n",
       "        text-align: right;\n",
       "    }\n",
       "</style>\n",
       "<table border=\"1\" class=\"dataframe\">\n",
       "  <thead>\n",
       "    <tr style=\"text-align: right;\">\n",
       "      <th></th>\n",
       "      <th>PassengerId</th>\n",
       "      <th>Survived</th>\n",
       "      <th>Name</th>\n",
       "      <th>Sex</th>\n",
       "      <th>Age</th>\n",
       "      <th>SibSp</th>\n",
       "      <th>Parch</th>\n",
       "      <th>Fare</th>\n",
       "      <th>Embarked</th>\n",
       "    </tr>\n",
       "  </thead>\n",
       "  <tbody>\n",
       "    <tr>\n",
       "      <th>61</th>\n",
       "      <td>62</td>\n",
       "      <td>1</td>\n",
       "      <td>Icard, Miss. Amelie</td>\n",
       "      <td>female</td>\n",
       "      <td>38.0000</td>\n",
       "      <td>0</td>\n",
       "      <td>0</td>\n",
       "      <td>80.0000</td>\n",
       "      <td>NaN</td>\n",
       "    </tr>\n",
       "    <tr>\n",
       "      <th>829</th>\n",
       "      <td>830</td>\n",
       "      <td>1</td>\n",
       "      <td>Stone, Mrs. George Nelson (Martha Evelyn)</td>\n",
       "      <td>female</td>\n",
       "      <td>62.0000</td>\n",
       "      <td>0</td>\n",
       "      <td>0</td>\n",
       "      <td>80.0000</td>\n",
       "      <td>NaN</td>\n",
       "    </tr>\n",
       "  </tbody>\n",
       "</table>\n",
       "</div>"
      ],
      "text/plain": [
       "     PassengerId  Survived                                       Name     Sex  \\\n",
       "61            62         1                        Icard, Miss. Amelie  female   \n",
       "829          830         1  Stone, Mrs. George Nelson (Martha Evelyn)  female   \n",
       "\n",
       "        Age  SibSp  Parch    Fare Embarked  \n",
       "61  38.0000      0      0 80.0000      NaN  \n",
       "829 62.0000      0      0 80.0000      NaN  "
      ]
     },
     "execution_count": 43,
     "metadata": {},
     "output_type": "execute_result"
    }
   ],
   "source": [
    "ds_work[ds_work[\"Embarked\"].isnull()]"
   ]
  },
  {
   "cell_type": "markdown",
   "id": "592f648c",
   "metadata": {},
   "source": [
    "We could drop these rows since they don't give any valuable information"
   ]
  },
  {
   "cell_type": "code",
   "execution_count": 44,
   "id": "d0a3fe25",
   "metadata": {},
   "outputs": [],
   "source": [
    "ds_work.dropna(inplace = True)"
   ]
  },
  {
   "cell_type": "code",
   "execution_count": 45,
   "id": "0c0636f0",
   "metadata": {},
   "outputs": [],
   "source": [
    "ds_test.dropna(inplace = True)"
   ]
  },
  {
   "cell_type": "markdown",
   "id": "f16f08a6",
   "metadata": {},
   "source": [
    "Now, we should have no more null values left"
   ]
  },
  {
   "cell_type": "code",
   "execution_count": 46,
   "id": "1e77a3f1",
   "metadata": {},
   "outputs": [
    {
     "data": {
      "text/plain": [
       "PassengerId    0\n",
       "Survived       0\n",
       "Name           0\n",
       "Sex            0\n",
       "Age            0\n",
       "SibSp          0\n",
       "Parch          0\n",
       "Fare           0\n",
       "Embarked       0\n",
       "dtype: int64"
      ]
     },
     "execution_count": 46,
     "metadata": {},
     "output_type": "execute_result"
    }
   ],
   "source": [
    "ds_work.isnull().sum()"
   ]
  },
  {
   "cell_type": "code",
   "execution_count": 47,
   "id": "1289371b",
   "metadata": {},
   "outputs": [
    {
     "data": {
      "text/plain": [
       "PassengerId    0\n",
       "Name           0\n",
       "Sex            0\n",
       "Age            0\n",
       "SibSp          0\n",
       "Parch          0\n",
       "Fare           0\n",
       "Embarked       0\n",
       "dtype: int64"
      ]
     },
     "execution_count": 47,
     "metadata": {},
     "output_type": "execute_result"
    }
   ],
   "source": [
    "ds_test.isnull().sum()"
   ]
  },
  {
   "cell_type": "markdown",
   "id": "32925d48",
   "metadata": {},
   "source": [
    "We check the new shapes of the datasets"
   ]
  },
  {
   "cell_type": "code",
   "execution_count": 48,
   "id": "d17d3f74",
   "metadata": {},
   "outputs": [
    {
     "data": {
      "text/plain": [
       "(889, 9)"
      ]
     },
     "execution_count": 48,
     "metadata": {},
     "output_type": "execute_result"
    }
   ],
   "source": [
    "ds_work.shape"
   ]
  },
  {
   "cell_type": "code",
   "execution_count": 49,
   "id": "9ad14fac",
   "metadata": {},
   "outputs": [
    {
     "data": {
      "text/plain": [
       "(417, 8)"
      ]
     },
     "execution_count": 49,
     "metadata": {},
     "output_type": "execute_result"
    }
   ],
   "source": [
    "ds_test.shape"
   ]
  },
  {
   "cell_type": "markdown",
   "id": "d24e5a24",
   "metadata": {},
   "source": [
    "# Optimizing memory usage"
   ]
  },
  {
   "cell_type": "markdown",
   "id": "6819110e",
   "metadata": {},
   "source": [
    "Information about the features, amount of null values, data type of each feature, and others"
   ]
  },
  {
   "cell_type": "code",
   "execution_count": 50,
   "id": "0af74277",
   "metadata": {},
   "outputs": [
    {
     "name": "stdout",
     "output_type": "stream",
     "text": [
      "<class 'pandas.core.frame.DataFrame'>\n",
      "Int64Index: 889 entries, 0 to 890\n",
      "Data columns (total 9 columns):\n",
      " #   Column       Non-Null Count  Dtype  \n",
      "---  ------       --------------  -----  \n",
      " 0   PassengerId  889 non-null    int64  \n",
      " 1   Survived     889 non-null    int64  \n",
      " 2   Name         889 non-null    object \n",
      " 3   Sex          889 non-null    object \n",
      " 4   Age          889 non-null    float64\n",
      " 5   SibSp        889 non-null    int64  \n",
      " 6   Parch        889 non-null    int64  \n",
      " 7   Fare         889 non-null    float64\n",
      " 8   Embarked     889 non-null    object \n",
      "dtypes: float64(2), int64(4), object(3)\n",
      "memory usage: 69.5+ KB\n"
     ]
    }
   ],
   "source": [
    "ds_work.info()"
   ]
  },
  {
   "cell_type": "code",
   "execution_count": 51,
   "id": "715dda4b",
   "metadata": {},
   "outputs": [
    {
     "name": "stdout",
     "output_type": "stream",
     "text": [
      "<class 'pandas.core.frame.DataFrame'>\n",
      "Int64Index: 417 entries, 0 to 417\n",
      "Data columns (total 8 columns):\n",
      " #   Column       Non-Null Count  Dtype  \n",
      "---  ------       --------------  -----  \n",
      " 0   PassengerId  417 non-null    int64  \n",
      " 1   Name         417 non-null    object \n",
      " 2   Sex          417 non-null    object \n",
      " 3   Age          417 non-null    float64\n",
      " 4   SibSp        417 non-null    int64  \n",
      " 5   Parch        417 non-null    int64  \n",
      " 6   Fare         417 non-null    float64\n",
      " 7   Embarked     417 non-null    object \n",
      "dtypes: float64(2), int64(3), object(3)\n",
      "memory usage: 29.3+ KB\n"
     ]
    }
   ],
   "source": [
    "ds_test.info()"
   ]
  },
  {
   "cell_type": "markdown",
   "id": "c2c8a3d9",
   "metadata": {},
   "source": [
    "Memory usage of each feature"
   ]
  },
  {
   "cell_type": "code",
   "execution_count": 52,
   "id": "d1b48770",
   "metadata": {},
   "outputs": [
    {
     "data": {
      "text/plain": [
       "Index          7112\n",
       "PassengerId    7112\n",
       "Survived       7112\n",
       "Name           7112\n",
       "Sex            7112\n",
       "Age            7112\n",
       "SibSp          7112\n",
       "Parch          7112\n",
       "Fare           7112\n",
       "Embarked       7112\n",
       "dtype: int64"
      ]
     },
     "execution_count": 52,
     "metadata": {},
     "output_type": "execute_result"
    }
   ],
   "source": [
    "ds_work.memory_usage()"
   ]
  },
  {
   "cell_type": "code",
   "execution_count": 53,
   "id": "9e701d08",
   "metadata": {},
   "outputs": [
    {
     "data": {
      "text/plain": [
       "Index          3336\n",
       "PassengerId    3336\n",
       "Name           3336\n",
       "Sex            3336\n",
       "Age            3336\n",
       "SibSp          3336\n",
       "Parch          3336\n",
       "Fare           3336\n",
       "Embarked       3336\n",
       "dtype: int64"
      ]
     },
     "execution_count": 53,
     "metadata": {},
     "output_type": "execute_result"
    }
   ],
   "source": [
    "ds_test.memory_usage()"
   ]
  },
  {
   "cell_type": "markdown",
   "id": "f74f69c7",
   "metadata": {},
   "source": [
    "Now, we change the data type of some features to save memory, but without losing info of the features."
   ]
  },
  {
   "cell_type": "markdown",
   "id": "e7dc6552",
   "metadata": {},
   "source": [
    "These features have a small range value (PassengerId from 1 to 891; Survived only 0 and 1; SibSp from 0 to 8; Parch from 0 to 6; Fare from 0 to 512.3292; Age from 0 to 80), so we can use a smaller data type for them"
   ]
  },
  {
   "cell_type": "code",
   "execution_count": 54,
   "id": "5bcc5605",
   "metadata": {},
   "outputs": [],
   "source": [
    "ds_work[\"PassengerId\"] = ds_work[\"PassengerId\"].astype(\"int16\")\n",
    "ds_work[\"Survived\"] = ds_work[\"Survived\"].astype(\"int8\")\n",
    "ds_work[\"SibSp\"] = ds_work[\"SibSp\"].astype(\"int8\")\n",
    "ds_work[\"Parch\"] = ds_work[\"Parch\"].astype(\"int8\")\n",
    "ds_work[\"Fare\"] = ds_work[\"Fare\"].astype(\"float16\")\n",
    "ds_work[\"Age\"] = ds_work[\"Age\"].astype(\"float16\")"
   ]
  },
  {
   "cell_type": "code",
   "execution_count": 55,
   "id": "fb35c187",
   "metadata": {},
   "outputs": [],
   "source": [
    "ds_test[\"PassengerId\"] = ds_test[\"PassengerId\"].astype(\"int16\")\n",
    "ds_test[\"SibSp\"] = ds_test[\"SibSp\"].astype(\"int8\")\n",
    "ds_test[\"Parch\"] = ds_test[\"Parch\"].astype(\"int8\")\n",
    "ds_test[\"Fare\"] = ds_test[\"Fare\"].astype(\"float16\")\n",
    "ds_test[\"Age\"] = ds_test[\"Age\"].astype(\"float16\")"
   ]
  },
  {
   "cell_type": "markdown",
   "id": "97b5036e",
   "metadata": {},
   "source": [
    "These features only take specific values (Sex takes male and female; Embarked takes S, C, Q or nan), so we can reduce them to categorical features"
   ]
  },
  {
   "cell_type": "code",
   "execution_count": 56,
   "id": "af0d3dd2",
   "metadata": {},
   "outputs": [],
   "source": [
    "ds_work[\"Sex\"] = ds_work[\"Sex\"].astype(\"category\")\n",
    "ds_work[\"Embarked\"] = ds_work[\"Embarked\"].astype(\"category\")"
   ]
  },
  {
   "cell_type": "code",
   "execution_count": 57,
   "id": "f8968cfd",
   "metadata": {},
   "outputs": [],
   "source": [
    "ds_test[\"Sex\"] = ds_test[\"Sex\"].astype(\"category\")\n",
    "ds_test[\"Embarked\"] = ds_test[\"Embarked\"].astype(\"category\")"
   ]
  },
  {
   "cell_type": "markdown",
   "id": "553b8e2a",
   "metadata": {},
   "source": [
    "We check again the memory usage of the entire datasets and of each feature"
   ]
  },
  {
   "cell_type": "code",
   "execution_count": 58,
   "id": "7116bff8",
   "metadata": {},
   "outputs": [
    {
     "name": "stdout",
     "output_type": "stream",
     "text": [
      "<class 'pandas.core.frame.DataFrame'>\n",
      "Int64Index: 889 entries, 0 to 890\n",
      "Data columns (total 9 columns):\n",
      " #   Column       Non-Null Count  Dtype   \n",
      "---  ------       --------------  -----   \n",
      " 0   PassengerId  889 non-null    int16   \n",
      " 1   Survived     889 non-null    int8    \n",
      " 2   Name         889 non-null    object  \n",
      " 3   Sex          889 non-null    category\n",
      " 4   Age          889 non-null    float16 \n",
      " 5   SibSp        889 non-null    int8    \n",
      " 6   Parch        889 non-null    int8    \n",
      " 7   Fare         889 non-null    float16 \n",
      " 8   Embarked     889 non-null    category\n",
      "dtypes: category(2), float16(2), int16(1), int8(3), object(1)\n",
      "memory usage: 23.7+ KB\n"
     ]
    }
   ],
   "source": [
    "ds_work.info()"
   ]
  },
  {
   "cell_type": "code",
   "execution_count": 59,
   "id": "38fba738",
   "metadata": {},
   "outputs": [
    {
     "name": "stdout",
     "output_type": "stream",
     "text": [
      "<class 'pandas.core.frame.DataFrame'>\n",
      "Int64Index: 417 entries, 0 to 417\n",
      "Data columns (total 8 columns):\n",
      " #   Column       Non-Null Count  Dtype   \n",
      "---  ------       --------------  -----   \n",
      " 0   PassengerId  417 non-null    int16   \n",
      " 1   Name         417 non-null    object  \n",
      " 2   Sex          417 non-null    category\n",
      " 3   Age          417 non-null    float16 \n",
      " 4   SibSp        417 non-null    int8    \n",
      " 5   Parch        417 non-null    int8    \n",
      " 6   Fare         417 non-null    float16 \n",
      " 7   Embarked     417 non-null    category\n",
      "dtypes: category(2), float16(2), int16(1), int8(2), object(1)\n",
      "memory usage: 10.8+ KB\n"
     ]
    }
   ],
   "source": [
    "ds_test.info()"
   ]
  },
  {
   "cell_type": "code",
   "execution_count": 60,
   "id": "2771ef93",
   "metadata": {},
   "outputs": [
    {
     "data": {
      "text/plain": [
       "Index          7112\n",
       "PassengerId    1778\n",
       "Survived        889\n",
       "Name           7112\n",
       "Sex            1013\n",
       "Age            1778\n",
       "SibSp           889\n",
       "Parch           889\n",
       "Fare           1778\n",
       "Embarked       1021\n",
       "dtype: int64"
      ]
     },
     "execution_count": 60,
     "metadata": {},
     "output_type": "execute_result"
    }
   ],
   "source": [
    "ds_work.memory_usage()"
   ]
  },
  {
   "cell_type": "code",
   "execution_count": 61,
   "id": "f3ea03d3",
   "metadata": {},
   "outputs": [
    {
     "data": {
      "text/plain": [
       "Index          3336\n",
       "PassengerId     834\n",
       "Name           3336\n",
       "Sex             541\n",
       "Age             834\n",
       "SibSp           417\n",
       "Parch           417\n",
       "Fare            834\n",
       "Embarked        549\n",
       "dtype: int64"
      ]
     },
     "execution_count": 61,
     "metadata": {},
     "output_type": "execute_result"
    }
   ],
   "source": [
    "ds_test.memory_usage()"
   ]
  },
  {
   "cell_type": "markdown",
   "id": "ebe459df",
   "metadata": {},
   "source": [
    "Even though the datasets are small, we reduced the memory usage from 69.5 KB to 23.7 KB, and from 29.3 KB to 10.8 KB (About 2/3 of memory). From now on, each time we load both datasets, we are going to do it with these datatypes."
   ]
  },
  {
   "cell_type": "markdown",
   "id": "ce1a1634",
   "metadata": {},
   "source": [
    "# Saving datasets"
   ]
  },
  {
   "cell_type": "markdown",
   "id": "8a813b61",
   "metadata": {},
   "source": [
    "Now let's save our datasets"
   ]
  },
  {
   "cell_type": "code",
   "execution_count": 62,
   "id": "03721d97",
   "metadata": {},
   "outputs": [],
   "source": [
    "ds_work.to_csv(r\"C:\\Users\\Administrador\\Documents\\IA\\Proyectos\\Titanic\\Datasets\\ds_train_processed.csv\", encoding = 'latin-1', index = False, header = True, decimal = '.', sep = ',')\n",
    "ds_test.to_csv(r\"C:\\Users\\Administrador\\Documents\\IA\\Proyectos\\Titanic\\Datasets\\ds_test_processed.csv\", encoding = 'latin-1', index = False, header = True, decimal = '.', sep = ',')"
   ]
  }
 ],
 "metadata": {
  "kernelspec": {
   "display_name": "Python 3 (ipykernel)",
   "language": "python",
   "name": "python3"
  },
  "language_info": {
   "codemirror_mode": {
    "name": "ipython",
    "version": 3
   },
   "file_extension": ".py",
   "mimetype": "text/x-python",
   "name": "python",
   "nbconvert_exporter": "python",
   "pygments_lexer": "ipython3",
   "version": "3.10.9"
  }
 },
 "nbformat": 4,
 "nbformat_minor": 5
}
