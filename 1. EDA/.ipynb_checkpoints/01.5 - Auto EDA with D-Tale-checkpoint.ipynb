{
 "cells": [
  {
   "cell_type": "markdown",
   "id": "4e8a7871",
   "metadata": {},
   "source": [
    "# Let's complement our manual EDA analysis using the Auto EDA library D-Tale"
   ]
  },
  {
   "cell_type": "markdown",
   "id": "a14429f7",
   "metadata": {},
   "source": [
    "Import required libraries"
   ]
  },
  {
   "cell_type": "code",
   "execution_count": 2,
   "id": "31546e55",
   "metadata": {},
   "outputs": [],
   "source": [
    "import dtale\n",
    "import pandas as pd\n",
    "\n",
    "import warnings\n",
    "warnings.filterwarnings(\"ignore\")"
   ]
  },
  {
   "cell_type": "markdown",
   "id": "370defb6",
   "metadata": {},
   "source": [
    "Print library versions to avoid conflicts"
   ]
  },
  {
   "cell_type": "code",
   "execution_count": 4,
   "id": "0be52a00",
   "metadata": {},
   "outputs": [
    {
     "name": "stdout",
     "output_type": "stream",
     "text": [
      "Pandas Version: 1.5.3\n"
     ]
    }
   ],
   "source": [
    "print(f'Pandas Version: {pd.__version__}') "
   ]
  },
  {
   "cell_type": "markdown",
   "id": "92386097",
   "metadata": {},
   "source": [
    "Add some configurations"
   ]
  },
  {
   "cell_type": "code",
   "execution_count": 6,
   "id": "b51eb233",
   "metadata": {},
   "outputs": [],
   "source": [
    "pd.set_option('display.max_columns', None)\n",
    "pd.set_option('display.max_rows', None)\n",
    "pd.set_option('display.max_colwidth', None)\n",
    "pd.set_option('display.precision', 3)\n",
    "pd.set_option('plotting.backend', 'matplotlib') \n",
    "pd.options.mode.chained_assignment = None"
   ]
  },
  {
   "cell_type": "markdown",
   "id": "918b3013",
   "metadata": {},
   "source": [
    "Load the train dataset"
   ]
  },
  {
   "cell_type": "code",
   "execution_count": 7,
   "id": "94b65aad",
   "metadata": {},
   "outputs": [],
   "source": [
    "ds_titanic_train = pd.read_csv(r\"C:\\Users\\Administrador\\Documents\\IA\\Proyectos\\Titanic\\Datasets\\train.csv\", encoding = 'unicode_escape')\n",
    "ds_work = ds_titanic_train.copy()"
   ]
  },
  {
   "cell_type": "code",
   "execution_count": 8,
   "id": "2b222bd6",
   "metadata": {},
   "outputs": [],
   "source": [
    "d = dtale.show(ds_work)"
   ]
  },
  {
   "cell_type": "code",
   "execution_count": 9,
   "id": "ded294c5",
   "metadata": {},
   "outputs": [],
   "source": [
    "d.open_browser()"
   ]
  }
 ],
 "metadata": {
  "kernelspec": {
   "display_name": "Python 3 (ipykernel)",
   "language": "python",
   "name": "python3"
  },
  "language_info": {
   "codemirror_mode": {
    "name": "ipython",
    "version": 3
   },
   "file_extension": ".py",
   "mimetype": "text/x-python",
   "name": "python",
   "nbconvert_exporter": "python",
   "pygments_lexer": "ipython3",
   "version": "3.10.9"
  }
 },
 "nbformat": 4,
 "nbformat_minor": 5
}
