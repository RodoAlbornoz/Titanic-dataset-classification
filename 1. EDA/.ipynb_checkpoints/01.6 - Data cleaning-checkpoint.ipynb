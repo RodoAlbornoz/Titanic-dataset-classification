{
 "cells": [
  {
   "cell_type": "markdown",
   "id": "56b7fab6",
   "metadata": {},
   "source": [
    "Let's now apply all the things that we got from the EDA and Auto EDA libraries analysis"
   ]
  },
  {
   "cell_type": "markdown",
   "id": "565f78af",
   "metadata": {},
   "source": [
    "Import the required libraries"
   ]
  },
  {
   "cell_type": "code",
   "execution_count": 43,
   "id": "22c82a72",
   "metadata": {},
   "outputs": [],
   "source": [
    "import pandas as pd\n",
    "import numpy as np\n",
    "import matplotlib\n",
    "import matplotlib.pyplot as plt\n",
    "import seaborn as sns\n",
    "\n",
    "import warnings\n",
    "warnings.filterwarnings(\"ignore\")"
   ]
  },
  {
   "cell_type": "markdown",
   "id": "31267407",
   "metadata": {},
   "source": [
    "Print library versions to avoid conflicts"
   ]
  },
  {
   "cell_type": "code",
   "execution_count": 44,
   "id": "990df0da",
   "metadata": {},
   "outputs": [
    {
     "name": "stdout",
     "output_type": "stream",
     "text": [
      "Pandas Version: 1.5.3\n",
      "Numpy Version: 1.23.5\n",
      "Matplotlib version: 3.6.3\n",
      "Seaborn version: 0.12.2\n"
     ]
    }
   ],
   "source": [
    "print(f'Pandas Version: {pd.__version__}') \n",
    "print(f'Numpy Version: {np.__version__}') \n",
    "print(f'Matplotlib version: {matplotlib.__version__}')\n",
    "print(f'Seaborn version: {sns.__version__}')"
   ]
  },
  {
   "cell_type": "markdown",
   "id": "6853a2b9",
   "metadata": {},
   "source": [
    "Add some configurations"
   ]
  },
  {
   "cell_type": "code",
   "execution_count": 45,
   "id": "ab700e2a",
   "metadata": {},
   "outputs": [],
   "source": [
    "pd.set_option('display.max_columns', None)\n",
    "pd.set_option('display.max_rows', None)\n",
    "pd.set_option('display.max_colwidth', None)\n",
    "pd.set_option('display.precision', 3)\n",
    "pd.set_option('plotting.backend', 'matplotlib') \n",
    "pd.options.mode.chained_assignment = None\n",
    "np.set_printoptions(suppress=True)\n",
    "pd.options.display.float_format = '{:.4f}'.format\n",
    "\n",
    "%matplotlib inline\n",
    "plt.rcParams[\"figure.figsize\"] = (15,7)"
   ]
  },
  {
   "cell_type": "markdown",
   "id": "320f4f34",
   "metadata": {},
   "source": [
    "Load train dataset"
   ]
  },
  {
   "cell_type": "code",
   "execution_count": 46,
   "id": "c9141635",
   "metadata": {},
   "outputs": [],
   "source": [
    "ds_titanic_train = pd.read_csv(r\"C:\\Users\\Administrador\\Documents\\IA\\Proyectos\\Titanic\\Datasets\\train.csv\", encoding = 'unicode_escape')\n",
    "ds_work = ds_titanic_train.copy()\n",
    "\n",
    "ds_titanic_test = pd.read_csv(r\"C:\\Users\\Administrador\\Documents\\IA\\Proyectos\\Titanic\\Datasets\\test.csv\", encoding = 'unicode_escape')\n",
    "ds_test = ds_titanic_test.copy()"
   ]
  },
  {
   "cell_type": "markdown",
   "id": "e265afa5",
   "metadata": {},
   "source": [
    "# Remove unnecesary features"
   ]
  },
  {
   "cell_type": "markdown",
   "id": "203d3050",
   "metadata": {},
   "source": [
    "We found that Ticket doesn't give relevant information about whether a passenger died or not. Even repeated tickets don't give any information about that. So let's remove Ticket from out dataset"
   ]
  },
  {
   "cell_type": "code",
   "execution_count": 49,
   "id": "bb34b09c",
   "metadata": {},
   "outputs": [
    {
     "ename": "KeyError",
     "evalue": "\"['Ticket'] not found in axis\"",
     "output_type": "error",
     "traceback": [
      "\u001b[1;31m---------------------------------------------------------------------------\u001b[0m",
      "\u001b[1;31mKeyError\u001b[0m                                  Traceback (most recent call last)",
      "Cell \u001b[1;32mIn[49], line 1\u001b[0m\n\u001b[1;32m----> 1\u001b[0m \u001b[43mds_work\u001b[49m\u001b[38;5;241;43m.\u001b[39;49m\u001b[43mdrop\u001b[49m\u001b[43m(\u001b[49m\u001b[43m[\u001b[49m\u001b[38;5;124;43m\"\u001b[39;49m\u001b[38;5;124;43mTicket\u001b[39;49m\u001b[38;5;124;43m\"\u001b[39;49m\u001b[43m]\u001b[49m\u001b[43m,\u001b[49m\u001b[43m \u001b[49m\u001b[43maxis\u001b[49m\u001b[43m \u001b[49m\u001b[38;5;241;43m=\u001b[39;49m\u001b[43m \u001b[49m\u001b[38;5;241;43m1\u001b[39;49m\u001b[43m,\u001b[49m\u001b[43m \u001b[49m\u001b[43minplace\u001b[49m\u001b[43m \u001b[49m\u001b[38;5;241;43m=\u001b[39;49m\u001b[43m \u001b[49m\u001b[38;5;28;43;01mTrue\u001b[39;49;00m\u001b[43m)\u001b[49m\n",
      "File \u001b[1;32m~\\anaconda3\\lib\\site-packages\\pandas\\util\\_decorators.py:331\u001b[0m, in \u001b[0;36mdeprecate_nonkeyword_arguments.<locals>.decorate.<locals>.wrapper\u001b[1;34m(*args, **kwargs)\u001b[0m\n\u001b[0;32m    325\u001b[0m \u001b[38;5;28;01mif\u001b[39;00m \u001b[38;5;28mlen\u001b[39m(args) \u001b[38;5;241m>\u001b[39m num_allow_args:\n\u001b[0;32m    326\u001b[0m     warnings\u001b[38;5;241m.\u001b[39mwarn(\n\u001b[0;32m    327\u001b[0m         msg\u001b[38;5;241m.\u001b[39mformat(arguments\u001b[38;5;241m=\u001b[39m_format_argument_list(allow_args)),\n\u001b[0;32m    328\u001b[0m         \u001b[38;5;167;01mFutureWarning\u001b[39;00m,\n\u001b[0;32m    329\u001b[0m         stacklevel\u001b[38;5;241m=\u001b[39mfind_stack_level(),\n\u001b[0;32m    330\u001b[0m     )\n\u001b[1;32m--> 331\u001b[0m \u001b[38;5;28;01mreturn\u001b[39;00m func(\u001b[38;5;241m*\u001b[39margs, \u001b[38;5;241m*\u001b[39m\u001b[38;5;241m*\u001b[39mkwargs)\n",
      "File \u001b[1;32m~\\anaconda3\\lib\\site-packages\\pandas\\core\\frame.py:5399\u001b[0m, in \u001b[0;36mDataFrame.drop\u001b[1;34m(self, labels, axis, index, columns, level, inplace, errors)\u001b[0m\n\u001b[0;32m   5251\u001b[0m \u001b[38;5;129m@deprecate_nonkeyword_arguments\u001b[39m(version\u001b[38;5;241m=\u001b[39m\u001b[38;5;28;01mNone\u001b[39;00m, allowed_args\u001b[38;5;241m=\u001b[39m[\u001b[38;5;124m\"\u001b[39m\u001b[38;5;124mself\u001b[39m\u001b[38;5;124m\"\u001b[39m, \u001b[38;5;124m\"\u001b[39m\u001b[38;5;124mlabels\u001b[39m\u001b[38;5;124m\"\u001b[39m])\n\u001b[0;32m   5252\u001b[0m \u001b[38;5;28;01mdef\u001b[39;00m \u001b[38;5;21mdrop\u001b[39m(  \u001b[38;5;66;03m# type: ignore[override]\u001b[39;00m\n\u001b[0;32m   5253\u001b[0m     \u001b[38;5;28mself\u001b[39m,\n\u001b[1;32m   (...)\u001b[0m\n\u001b[0;32m   5260\u001b[0m     errors: IgnoreRaise \u001b[38;5;241m=\u001b[39m \u001b[38;5;124m\"\u001b[39m\u001b[38;5;124mraise\u001b[39m\u001b[38;5;124m\"\u001b[39m,\n\u001b[0;32m   5261\u001b[0m ) \u001b[38;5;241m-\u001b[39m\u001b[38;5;241m>\u001b[39m DataFrame \u001b[38;5;241m|\u001b[39m \u001b[38;5;28;01mNone\u001b[39;00m:\n\u001b[0;32m   5262\u001b[0m     \u001b[38;5;124;03m\"\"\"\u001b[39;00m\n\u001b[0;32m   5263\u001b[0m \u001b[38;5;124;03m    Drop specified labels from rows or columns.\u001b[39;00m\n\u001b[0;32m   5264\u001b[0m \n\u001b[1;32m   (...)\u001b[0m\n\u001b[0;32m   5397\u001b[0m \u001b[38;5;124;03m            weight  1.0     0.8\u001b[39;00m\n\u001b[0;32m   5398\u001b[0m \u001b[38;5;124;03m    \"\"\"\u001b[39;00m\n\u001b[1;32m-> 5399\u001b[0m     \u001b[38;5;28;01mreturn\u001b[39;00m \u001b[38;5;28;43msuper\u001b[39;49m\u001b[43m(\u001b[49m\u001b[43m)\u001b[49m\u001b[38;5;241;43m.\u001b[39;49m\u001b[43mdrop\u001b[49m\u001b[43m(\u001b[49m\n\u001b[0;32m   5400\u001b[0m \u001b[43m        \u001b[49m\u001b[43mlabels\u001b[49m\u001b[38;5;241;43m=\u001b[39;49m\u001b[43mlabels\u001b[49m\u001b[43m,\u001b[49m\n\u001b[0;32m   5401\u001b[0m \u001b[43m        \u001b[49m\u001b[43maxis\u001b[49m\u001b[38;5;241;43m=\u001b[39;49m\u001b[43maxis\u001b[49m\u001b[43m,\u001b[49m\n\u001b[0;32m   5402\u001b[0m \u001b[43m        \u001b[49m\u001b[43mindex\u001b[49m\u001b[38;5;241;43m=\u001b[39;49m\u001b[43mindex\u001b[49m\u001b[43m,\u001b[49m\n\u001b[0;32m   5403\u001b[0m \u001b[43m        \u001b[49m\u001b[43mcolumns\u001b[49m\u001b[38;5;241;43m=\u001b[39;49m\u001b[43mcolumns\u001b[49m\u001b[43m,\u001b[49m\n\u001b[0;32m   5404\u001b[0m \u001b[43m        \u001b[49m\u001b[43mlevel\u001b[49m\u001b[38;5;241;43m=\u001b[39;49m\u001b[43mlevel\u001b[49m\u001b[43m,\u001b[49m\n\u001b[0;32m   5405\u001b[0m \u001b[43m        \u001b[49m\u001b[43minplace\u001b[49m\u001b[38;5;241;43m=\u001b[39;49m\u001b[43minplace\u001b[49m\u001b[43m,\u001b[49m\n\u001b[0;32m   5406\u001b[0m \u001b[43m        \u001b[49m\u001b[43merrors\u001b[49m\u001b[38;5;241;43m=\u001b[39;49m\u001b[43merrors\u001b[49m\u001b[43m,\u001b[49m\n\u001b[0;32m   5407\u001b[0m \u001b[43m    \u001b[49m\u001b[43m)\u001b[49m\n",
      "File \u001b[1;32m~\\anaconda3\\lib\\site-packages\\pandas\\util\\_decorators.py:331\u001b[0m, in \u001b[0;36mdeprecate_nonkeyword_arguments.<locals>.decorate.<locals>.wrapper\u001b[1;34m(*args, **kwargs)\u001b[0m\n\u001b[0;32m    325\u001b[0m \u001b[38;5;28;01mif\u001b[39;00m \u001b[38;5;28mlen\u001b[39m(args) \u001b[38;5;241m>\u001b[39m num_allow_args:\n\u001b[0;32m    326\u001b[0m     warnings\u001b[38;5;241m.\u001b[39mwarn(\n\u001b[0;32m    327\u001b[0m         msg\u001b[38;5;241m.\u001b[39mformat(arguments\u001b[38;5;241m=\u001b[39m_format_argument_list(allow_args)),\n\u001b[0;32m    328\u001b[0m         \u001b[38;5;167;01mFutureWarning\u001b[39;00m,\n\u001b[0;32m    329\u001b[0m         stacklevel\u001b[38;5;241m=\u001b[39mfind_stack_level(),\n\u001b[0;32m    330\u001b[0m     )\n\u001b[1;32m--> 331\u001b[0m \u001b[38;5;28;01mreturn\u001b[39;00m func(\u001b[38;5;241m*\u001b[39margs, \u001b[38;5;241m*\u001b[39m\u001b[38;5;241m*\u001b[39mkwargs)\n",
      "File \u001b[1;32m~\\anaconda3\\lib\\site-packages\\pandas\\core\\generic.py:4505\u001b[0m, in \u001b[0;36mNDFrame.drop\u001b[1;34m(self, labels, axis, index, columns, level, inplace, errors)\u001b[0m\n\u001b[0;32m   4503\u001b[0m \u001b[38;5;28;01mfor\u001b[39;00m axis, labels \u001b[38;5;129;01min\u001b[39;00m axes\u001b[38;5;241m.\u001b[39mitems():\n\u001b[0;32m   4504\u001b[0m     \u001b[38;5;28;01mif\u001b[39;00m labels \u001b[38;5;129;01mis\u001b[39;00m \u001b[38;5;129;01mnot\u001b[39;00m \u001b[38;5;28;01mNone\u001b[39;00m:\n\u001b[1;32m-> 4505\u001b[0m         obj \u001b[38;5;241m=\u001b[39m \u001b[43mobj\u001b[49m\u001b[38;5;241;43m.\u001b[39;49m\u001b[43m_drop_axis\u001b[49m\u001b[43m(\u001b[49m\u001b[43mlabels\u001b[49m\u001b[43m,\u001b[49m\u001b[43m \u001b[49m\u001b[43maxis\u001b[49m\u001b[43m,\u001b[49m\u001b[43m \u001b[49m\u001b[43mlevel\u001b[49m\u001b[38;5;241;43m=\u001b[39;49m\u001b[43mlevel\u001b[49m\u001b[43m,\u001b[49m\u001b[43m \u001b[49m\u001b[43merrors\u001b[49m\u001b[38;5;241;43m=\u001b[39;49m\u001b[43merrors\u001b[49m\u001b[43m)\u001b[49m\n\u001b[0;32m   4507\u001b[0m \u001b[38;5;28;01mif\u001b[39;00m inplace:\n\u001b[0;32m   4508\u001b[0m     \u001b[38;5;28mself\u001b[39m\u001b[38;5;241m.\u001b[39m_update_inplace(obj)\n",
      "File \u001b[1;32m~\\anaconda3\\lib\\site-packages\\pandas\\core\\generic.py:4546\u001b[0m, in \u001b[0;36mNDFrame._drop_axis\u001b[1;34m(self, labels, axis, level, errors, only_slice)\u001b[0m\n\u001b[0;32m   4544\u001b[0m         new_axis \u001b[38;5;241m=\u001b[39m axis\u001b[38;5;241m.\u001b[39mdrop(labels, level\u001b[38;5;241m=\u001b[39mlevel, errors\u001b[38;5;241m=\u001b[39merrors)\n\u001b[0;32m   4545\u001b[0m     \u001b[38;5;28;01melse\u001b[39;00m:\n\u001b[1;32m-> 4546\u001b[0m         new_axis \u001b[38;5;241m=\u001b[39m \u001b[43maxis\u001b[49m\u001b[38;5;241;43m.\u001b[39;49m\u001b[43mdrop\u001b[49m\u001b[43m(\u001b[49m\u001b[43mlabels\u001b[49m\u001b[43m,\u001b[49m\u001b[43m \u001b[49m\u001b[43merrors\u001b[49m\u001b[38;5;241;43m=\u001b[39;49m\u001b[43merrors\u001b[49m\u001b[43m)\u001b[49m\n\u001b[0;32m   4547\u001b[0m     indexer \u001b[38;5;241m=\u001b[39m axis\u001b[38;5;241m.\u001b[39mget_indexer(new_axis)\n\u001b[0;32m   4549\u001b[0m \u001b[38;5;66;03m# Case for non-unique axis\u001b[39;00m\n\u001b[0;32m   4550\u001b[0m \u001b[38;5;28;01melse\u001b[39;00m:\n",
      "File \u001b[1;32m~\\anaconda3\\lib\\site-packages\\pandas\\core\\indexes\\base.py:6934\u001b[0m, in \u001b[0;36mIndex.drop\u001b[1;34m(self, labels, errors)\u001b[0m\n\u001b[0;32m   6932\u001b[0m \u001b[38;5;28;01mif\u001b[39;00m mask\u001b[38;5;241m.\u001b[39many():\n\u001b[0;32m   6933\u001b[0m     \u001b[38;5;28;01mif\u001b[39;00m errors \u001b[38;5;241m!=\u001b[39m \u001b[38;5;124m\"\u001b[39m\u001b[38;5;124mignore\u001b[39m\u001b[38;5;124m\"\u001b[39m:\n\u001b[1;32m-> 6934\u001b[0m         \u001b[38;5;28;01mraise\u001b[39;00m \u001b[38;5;167;01mKeyError\u001b[39;00m(\u001b[38;5;124mf\u001b[39m\u001b[38;5;124m\"\u001b[39m\u001b[38;5;132;01m{\u001b[39;00m\u001b[38;5;28mlist\u001b[39m(labels[mask])\u001b[38;5;132;01m}\u001b[39;00m\u001b[38;5;124m not found in axis\u001b[39m\u001b[38;5;124m\"\u001b[39m)\n\u001b[0;32m   6935\u001b[0m     indexer \u001b[38;5;241m=\u001b[39m indexer[\u001b[38;5;241m~\u001b[39mmask]\n\u001b[0;32m   6936\u001b[0m \u001b[38;5;28;01mreturn\u001b[39;00m \u001b[38;5;28mself\u001b[39m\u001b[38;5;241m.\u001b[39mdelete(indexer)\n",
      "\u001b[1;31mKeyError\u001b[0m: \"['Ticket'] not found in axis\""
     ]
    }
   ],
   "source": [
    "ds_work.drop([\"Ticket\"], axis = 1, inplace = True)"
   ]
  },
  {
   "cell_type": "markdown",
   "id": "ccf824b9",
   "metadata": {},
   "source": [
    "Name of the passengers also doesn't give any relevant information about survived passengers, let's remove it"
   ]
  },
  {
   "cell_type": "code",
   "execution_count": null,
   "id": "de20b537",
   "metadata": {},
   "outputs": [],
   "source": [
    "ds_work.drop([\"Name\"], axis = 1, inplace = True)"
   ]
  },
  {
   "cell_type": "markdown",
   "id": "95be6580",
   "metadata": {},
   "source": [
    "Finally, since Cabin has 77% null values, and it doesn't give information"
   ]
  },
  {
   "cell_type": "code",
   "execution_count": null,
   "id": "bbf9225f",
   "metadata": {},
   "outputs": [],
   "source": [
    "ds_work.drop([\"Cabin\"], axis = 1, inplace = True)"
   ]
  },
  {
   "cell_type": "markdown",
   "id": "013ff308",
   "metadata": {},
   "source": [
    "# Treating null values"
   ]
  },
  {
   "cell_type": "code",
   "execution_count": 29,
   "id": "b7fd6848",
   "metadata": {},
   "outputs": [
    {
     "data": {
      "text/plain": [
       "PassengerId      0\n",
       "Survived         0\n",
       "Pclass           0\n",
       "Name             0\n",
       "Sex              0\n",
       "Age            177\n",
       "SibSp            0\n",
       "Parch            0\n",
       "Ticket           0\n",
       "Fare             0\n",
       "Cabin          687\n",
       "Embarked         2\n",
       "dtype: int64"
      ]
     },
     "execution_count": 29,
     "metadata": {},
     "output_type": "execute_result"
    }
   ],
   "source": [
    "ds_work[[\"Age\", \"Cabin\", \"Embarked\"]].isnull().sum()"
   ]
  },
  {
   "cell_type": "markdown",
   "id": "ef11ba6a",
   "metadata": {},
   "source": [
    "Out of 891 registers, 687 contain null values for the cabin feature (77% of the dataset). Considering that it doesn't seem to be a relevant feature to our analysis, we could remove it."
   ]
  },
  {
   "cell_type": "code",
   "execution_count": 30,
   "id": "7400d117",
   "metadata": {},
   "outputs": [],
   "source": [
    "ds_work.drop([\"Cabin\"], axis = 1, inplace = True)"
   ]
  },
  {
   "cell_type": "markdown",
   "id": "4e933f41",
   "metadata": {},
   "source": [
    "For age, it seems like a more relevant feature. We could lose valuable information by removing 177 rows out of 891 (20% of the dataset), so we can replace null values with zeros."
   ]
  },
  {
   "cell_type": "code",
   "execution_count": 31,
   "id": "0efef2b5",
   "metadata": {},
   "outputs": [],
   "source": [
    "ds_work[\"Age\"].fillna(0, inplace = True)"
   ]
  },
  {
   "cell_type": "markdown",
   "id": "c0a407dc",
   "metadata": {},
   "source": [
    "For embarked, we can check the rows with Nan values"
   ]
  },
  {
   "cell_type": "code",
   "execution_count": 32,
   "id": "6f33e2d7",
   "metadata": {},
   "outputs": [
    {
     "data": {
      "text/html": [
       "<div>\n",
       "<style scoped>\n",
       "    .dataframe tbody tr th:only-of-type {\n",
       "        vertical-align: middle;\n",
       "    }\n",
       "\n",
       "    .dataframe tbody tr th {\n",
       "        vertical-align: top;\n",
       "    }\n",
       "\n",
       "    .dataframe thead th {\n",
       "        text-align: right;\n",
       "    }\n",
       "</style>\n",
       "<table border=\"1\" class=\"dataframe\">\n",
       "  <thead>\n",
       "    <tr style=\"text-align: right;\">\n",
       "      <th></th>\n",
       "      <th>PassengerId</th>\n",
       "      <th>Survived</th>\n",
       "      <th>Pclass</th>\n",
       "      <th>Name</th>\n",
       "      <th>Sex</th>\n",
       "      <th>Age</th>\n",
       "      <th>SibSp</th>\n",
       "      <th>Parch</th>\n",
       "      <th>Ticket</th>\n",
       "      <th>Fare</th>\n",
       "      <th>Embarked</th>\n",
       "    </tr>\n",
       "  </thead>\n",
       "  <tbody>\n",
       "    <tr>\n",
       "      <th>61</th>\n",
       "      <td>62</td>\n",
       "      <td>1</td>\n",
       "      <td>1</td>\n",
       "      <td>Icard, Miss. Amelie</td>\n",
       "      <td>female</td>\n",
       "      <td>38.0000</td>\n",
       "      <td>0</td>\n",
       "      <td>0</td>\n",
       "      <td>113572</td>\n",
       "      <td>80.0000</td>\n",
       "      <td>NaN</td>\n",
       "    </tr>\n",
       "    <tr>\n",
       "      <th>829</th>\n",
       "      <td>830</td>\n",
       "      <td>1</td>\n",
       "      <td>1</td>\n",
       "      <td>Stone, Mrs. George Nelson (Martha Evelyn)</td>\n",
       "      <td>female</td>\n",
       "      <td>62.0000</td>\n",
       "      <td>0</td>\n",
       "      <td>0</td>\n",
       "      <td>113572</td>\n",
       "      <td>80.0000</td>\n",
       "      <td>NaN</td>\n",
       "    </tr>\n",
       "  </tbody>\n",
       "</table>\n",
       "</div>"
      ],
      "text/plain": [
       "     PassengerId  Survived  Pclass                                       Name  \\\n",
       "61            62         1       1                        Icard, Miss. Amelie   \n",
       "829          830         1       1  Stone, Mrs. George Nelson (Martha Evelyn)   \n",
       "\n",
       "        Sex     Age  SibSp  Parch  Ticket    Fare Embarked  \n",
       "61   female 38.0000      0      0  113572 80.0000      NaN  \n",
       "829  female 62.0000      0      0  113572 80.0000      NaN  "
      ]
     },
     "execution_count": 32,
     "metadata": {},
     "output_type": "execute_result"
    }
   ],
   "source": [
    "ds_work[ds_work[\"Embarked\"].isnull()]"
   ]
  },
  {
   "cell_type": "markdown",
   "id": "63ad8717",
   "metadata": {},
   "source": [
    "We could drop these rows since they don't have any valuable information"
   ]
  },
  {
   "cell_type": "code",
   "execution_count": 33,
   "id": "9adad9fe",
   "metadata": {},
   "outputs": [],
   "source": [
    "ds_work.dropna(inplace = True)"
   ]
  },
  {
   "cell_type": "markdown",
   "id": "598e9141",
   "metadata": {},
   "source": [
    "There are no more null values. Now, we should not have any null value left"
   ]
  },
  {
   "cell_type": "code",
   "execution_count": 34,
   "id": "f18ce30f",
   "metadata": {},
   "outputs": [
    {
     "data": {
      "text/plain": [
       "PassengerId    0\n",
       "Survived       0\n",
       "Pclass         0\n",
       "Name           0\n",
       "Sex            0\n",
       "Age            0\n",
       "SibSp          0\n",
       "Parch          0\n",
       "Ticket         0\n",
       "Fare           0\n",
       "Embarked       0\n",
       "dtype: int64"
      ]
     },
     "execution_count": 34,
     "metadata": {},
     "output_type": "execute_result"
    }
   ],
   "source": [
    "ds_work.isnull().sum()"
   ]
  },
  {
   "cell_type": "markdown",
   "id": "6a941b30",
   "metadata": {},
   "source": [
    "We check the new shape of the dataset; only 2 rows and 1 feature were eliminated"
   ]
  },
  {
   "cell_type": "code",
   "execution_count": 35,
   "id": "24cf0a92",
   "metadata": {},
   "outputs": [
    {
     "data": {
      "text/plain": [
       "(889, 11)"
      ]
     },
     "execution_count": 35,
     "metadata": {},
     "output_type": "execute_result"
    }
   ],
   "source": [
    "ds_work.shape"
   ]
  },
  {
   "cell_type": "markdown",
   "id": "d24e5a24",
   "metadata": {},
   "source": [
    "# Optimizing memory usage"
   ]
  },
  {
   "cell_type": "markdown",
   "id": "6819110e",
   "metadata": {},
   "source": [
    "Information about the features, amount of null values, data type of each feature, and others"
   ]
  },
  {
   "cell_type": "code",
   "execution_count": 36,
   "id": "0af74277",
   "metadata": {},
   "outputs": [
    {
     "name": "stdout",
     "output_type": "stream",
     "text": [
      "<class 'pandas.core.frame.DataFrame'>\n",
      "Int64Index: 889 entries, 0 to 890\n",
      "Data columns (total 11 columns):\n",
      " #   Column       Non-Null Count  Dtype  \n",
      "---  ------       --------------  -----  \n",
      " 0   PassengerId  889 non-null    int64  \n",
      " 1   Survived     889 non-null    int64  \n",
      " 2   Pclass       889 non-null    int64  \n",
      " 3   Name         889 non-null    object \n",
      " 4   Sex          889 non-null    object \n",
      " 5   Age          889 non-null    float64\n",
      " 6   SibSp        889 non-null    int64  \n",
      " 7   Parch        889 non-null    int64  \n",
      " 8   Ticket       889 non-null    object \n",
      " 9   Fare         889 non-null    float64\n",
      " 10  Embarked     889 non-null    object \n",
      "dtypes: float64(2), int64(5), object(4)\n",
      "memory usage: 83.3+ KB\n"
     ]
    }
   ],
   "source": [
    "ds_work.info()"
   ]
  },
  {
   "cell_type": "markdown",
   "id": "c2c8a3d9",
   "metadata": {},
   "source": [
    "Memory usage of each feature"
   ]
  },
  {
   "cell_type": "code",
   "execution_count": 37,
   "id": "d1b48770",
   "metadata": {},
   "outputs": [
    {
     "data": {
      "text/plain": [
       "Index          7112\n",
       "PassengerId    7112\n",
       "Survived       7112\n",
       "Pclass         7112\n",
       "Name           7112\n",
       "Sex            7112\n",
       "Age            7112\n",
       "SibSp          7112\n",
       "Parch          7112\n",
       "Ticket         7112\n",
       "Fare           7112\n",
       "Embarked       7112\n",
       "dtype: int64"
      ]
     },
     "execution_count": 37,
     "metadata": {},
     "output_type": "execute_result"
    }
   ],
   "source": [
    "ds_work.memory_usage()"
   ]
  },
  {
   "cell_type": "markdown",
   "id": "f74f69c7",
   "metadata": {},
   "source": [
    "Now, we change the data type of some features to save memory, but without losing info of the features."
   ]
  },
  {
   "cell_type": "markdown",
   "id": "e7dc6552",
   "metadata": {},
   "source": [
    "These features have a small range value (PassengerId from 1 to 891; Survived only 0 and 1; Pclass from 1 to 3; SibSp from 0 to 8; Parch from 0 to 6; Fare from 0 to 512.3292; Age from 0 to 80), so we can use a smaller data type for them"
   ]
  },
  {
   "cell_type": "code",
   "execution_count": 38,
   "id": "5bcc5605",
   "metadata": {},
   "outputs": [],
   "source": [
    "ds_work[\"PassengerId\"] = ds_work[\"PassengerId\"].astype(\"int16\")\n",
    "ds_work[\"Survived\"] = ds_work[\"Survived\"].astype(\"int8\")\n",
    "ds_work[\"Pclass\"] = ds_work[\"Pclass\"].astype(\"int8\")\n",
    "ds_work[\"SibSp\"] = ds_work[\"SibSp\"].astype(\"int8\")\n",
    "ds_work[\"Parch\"] = ds_work[\"Parch\"].astype(\"int8\")\n",
    "ds_work[\"Fare\"] = ds_work[\"Fare\"].astype(\"float16\")\n",
    "ds_work[\"Age\"] = ds_work[\"Age\"].astype(\"float16\")"
   ]
  },
  {
   "cell_type": "markdown",
   "id": "97b5036e",
   "metadata": {},
   "source": [
    "These features only take specific values (Sex takes male and female; Embarked takes S, C, Q or nan), so we can reduce them to categorical features"
   ]
  },
  {
   "cell_type": "code",
   "execution_count": 39,
   "id": "af0d3dd2",
   "metadata": {},
   "outputs": [],
   "source": [
    "ds_work[\"Sex\"] = ds_work[\"Sex\"].astype(\"category\")\n",
    "ds_work[\"Embarked\"] = ds_work[\"Embarked\"].astype(\"category\")"
   ]
  },
  {
   "cell_type": "markdown",
   "id": "553b8e2a",
   "metadata": {},
   "source": [
    "We check again the memory usage of the entire dataset and of each feature"
   ]
  },
  {
   "cell_type": "code",
   "execution_count": 40,
   "id": "7116bff8",
   "metadata": {},
   "outputs": [
    {
     "name": "stdout",
     "output_type": "stream",
     "text": [
      "<class 'pandas.core.frame.DataFrame'>\n",
      "Int64Index: 889 entries, 0 to 890\n",
      "Data columns (total 11 columns):\n",
      " #   Column       Non-Null Count  Dtype   \n",
      "---  ------       --------------  -----   \n",
      " 0   PassengerId  889 non-null    int16   \n",
      " 1   Survived     889 non-null    int8    \n",
      " 2   Pclass       889 non-null    int8    \n",
      " 3   Name         889 non-null    object  \n",
      " 4   Sex          889 non-null    category\n",
      " 5   Age          889 non-null    float16 \n",
      " 6   SibSp        889 non-null    int8    \n",
      " 7   Parch        889 non-null    int8    \n",
      " 8   Ticket       889 non-null    object  \n",
      " 9   Fare         889 non-null    float16 \n",
      " 10  Embarked     889 non-null    category\n",
      "dtypes: category(2), float16(2), int16(1), int8(4), object(2)\n",
      "memory usage: 31.5+ KB\n"
     ]
    }
   ],
   "source": [
    "ds_work.info()"
   ]
  },
  {
   "cell_type": "code",
   "execution_count": 41,
   "id": "2771ef93",
   "metadata": {},
   "outputs": [
    {
     "data": {
      "text/plain": [
       "Index          7112\n",
       "PassengerId    1778\n",
       "Survived        889\n",
       "Pclass          889\n",
       "Name           7112\n",
       "Sex            1013\n",
       "Age            1778\n",
       "SibSp           889\n",
       "Parch           889\n",
       "Ticket         7112\n",
       "Fare           1778\n",
       "Embarked       1021\n",
       "dtype: int64"
      ]
     },
     "execution_count": 41,
     "metadata": {},
     "output_type": "execute_result"
    }
   ],
   "source": [
    "ds_work.memory_usage()"
   ]
  },
  {
   "cell_type": "markdown",
   "id": "ebe459df",
   "metadata": {},
   "source": [
    "Even though the dataset is small, we reduced the memory usage from 83 KB to 31 KB (About 2/3 of memory)"
   ]
  },
  {
   "cell_type": "markdown",
   "id": "ce1a1634",
   "metadata": {},
   "source": [
    "# Saving dataset"
   ]
  },
  {
   "cell_type": "markdown",
   "id": "8a813b61",
   "metadata": {},
   "source": [
    "Now let's save our dataset"
   ]
  },
  {
   "cell_type": "code",
   "execution_count": 42,
   "id": "03721d97",
   "metadata": {},
   "outputs": [],
   "source": [
    "ds_work.to_csv(r\"C:\\Users\\Administrador\\Documents\\IA\\Proyectos\\Titanic\\Datasets\\processed_ds.csv\", encoding = 'latin-1', index = False, header = True, decimal = '.', sep = ',')"
   ]
  }
 ],
 "metadata": {
  "kernelspec": {
   "display_name": "Python 3 (ipykernel)",
   "language": "python",
   "name": "python3"
  },
  "language_info": {
   "codemirror_mode": {
    "name": "ipython",
    "version": 3
   },
   "file_extension": ".py",
   "mimetype": "text/x-python",
   "name": "python",
   "nbconvert_exporter": "python",
   "pygments_lexer": "ipython3",
   "version": "3.10.9"
  }
 },
 "nbformat": 4,
 "nbformat_minor": 5
}
