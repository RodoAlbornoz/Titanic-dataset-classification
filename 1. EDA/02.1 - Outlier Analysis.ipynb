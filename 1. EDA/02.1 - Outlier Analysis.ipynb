{
 "cells": [
  {
   "cell_type": "code",
   "execution_count": null,
   "id": "c692d9fb",
   "metadata": {},
   "outputs": [],
   "source": []
  },
  {
   "cell_type": "code",
   "execution_count": null,
   "id": "5e926ce7",
   "metadata": {},
   "outputs": [],
   "source": []
  },
  {
   "cell_type": "code",
   "execution_count": null,
   "id": "9de07722",
   "metadata": {},
   "outputs": [],
   "source": []
  },
  {
   "cell_type": "code",
   "execution_count": null,
   "id": "acfb3402",
   "metadata": {},
   "outputs": [],
   "source": []
  },
  {
   "cell_type": "code",
   "execution_count": null,
   "id": "4d720a7e",
   "metadata": {},
   "outputs": [],
   "source": []
  },
  {
   "cell_type": "code",
   "execution_count": null,
   "id": "7bccd51b",
   "metadata": {},
   "outputs": [],
   "source": []
  },
  {
   "cell_type": "code",
   "execution_count": null,
   "id": "735f9c78",
   "metadata": {},
   "outputs": [],
   "source": []
  },
  {
   "cell_type": "code",
   "execution_count": null,
   "id": "5fe8c5d0",
   "metadata": {},
   "outputs": [],
   "source": []
  },
  {
   "cell_type": "code",
   "execution_count": null,
   "id": "05d2aa14",
   "metadata": {},
   "outputs": [],
   "source": []
  },
  {
   "cell_type": "markdown",
   "id": "a062120f",
   "metadata": {},
   "source": [
    "# Outlier Analysis"
   ]
  },
  {
   "cell_type": "markdown",
   "id": "248123d5",
   "metadata": {},
   "source": [
    "We found in our analysis that there might be outliers for 4 features: Age, SibSp, Parch and Fare. We are going to check them individually, but later, we will check them on a different jupyter notebook using specific libraries."
   ]
  },
  {
   "cell_type": "markdown",
   "id": "be5dca1c",
   "metadata": {},
   "source": [
    "## Outliers for Age"
   ]
  },
  {
   "cell_type": "markdown",
   "id": "5ba3236b",
   "metadata": {},
   "source": [
    "From the histogram before, we supposed that ages around 70 could be outliers. Our analysis also told us that ages greater than 64.81 may be considered outliers. Let's check those values"
   ]
  },
  {
   "cell_type": "code",
   "execution_count": null,
   "id": "0583107b",
   "metadata": {},
   "outputs": [],
   "source": [
    "ds_work[ds_work[\"Age\"] > 64.81].sort_values(by = \"Age\")"
   ]
  },
  {
   "cell_type": "markdown",
   "id": "544f88aa",
   "metadata": {},
   "source": [
    "The only relevant info we can get is that almost all of them died, and they were all males. There doesn't seem anything wrong with these values."
   ]
  },
  {
   "cell_type": "markdown",
   "id": "4cab8c1b",
   "metadata": {},
   "source": [
    "Let's check a boxplot for Age for better understanding."
   ]
  },
  {
   "cell_type": "code",
   "execution_count": null,
   "id": "f94e480d",
   "metadata": {},
   "outputs": [],
   "source": [
    "sns.boxplot(data = ds_work, x = \"Age\")"
   ]
  },
  {
   "cell_type": "markdown",
   "id": "8b0edfb3",
   "metadata": {},
   "source": [
    "Let's calculate the 0.25-percentile (q1) and the 0.75-percentile (q3) to calculate the interquartile range (iqr) and check where the most common values for Age are"
   ]
  },
  {
   "cell_type": "code",
   "execution_count": null,
   "id": "c04e2fd1",
   "metadata": {},
   "outputs": [],
   "source": [
    "q1_age = np.percentile(ds_work[\"Age\"], [25])\n",
    "q1_age[0]"
   ]
  },
  {
   "cell_type": "code",
   "execution_count": null,
   "id": "a4a1cc4f",
   "metadata": {},
   "outputs": [],
   "source": [
    "q3_age = np.percentile(ds_work[\"Age\"], [75])\n",
    "q3_age[0]"
   ]
  },
  {
   "cell_type": "code",
   "execution_count": null,
   "id": "8716850f",
   "metadata": {},
   "outputs": [],
   "source": [
    "iqr_age = q3_age - q1_age\n",
    "iqr_age[0]"
   ]
  },
  {
   "cell_type": "markdown",
   "id": "f07420f9",
   "metadata": {},
   "source": [
    "Even if most common values for Age are between 6 and 35 years, there is nothing wrong with those values above 64.81. Logically, ages greater than 64.81 are possible (Even 80 years). In conclussion, it is not neccesary to delete them."
   ]
  },
  {
   "cell_type": "markdown",
   "id": "c4d6203c",
   "metadata": {},
   "source": [
    "## Outliers for SibSp"
   ]
  },
  {
   "cell_type": "markdown",
   "id": "a5d5ac37",
   "metadata": {},
   "source": [
    "Let's first check a histogram for SibSp"
   ]
  },
  {
   "cell_type": "code",
   "execution_count": null,
   "id": "35b3e6fb",
   "metadata": {},
   "outputs": [],
   "source": [
    "sns.histplot(data = ds_work, x = \"SibSp\", bins = 30)"
   ]
  },
  {
   "cell_type": "markdown",
   "id": "7a0be20f",
   "metadata": {},
   "source": [
    "It seems like values greater than or equal to 2 seem less common. Our analysis also told us that Sibsp values greater than 2.50 may be considered outliers. Let's check those values"
   ]
  },
  {
   "cell_type": "code",
   "execution_count": null,
   "id": "0adb7a28",
   "metadata": {},
   "outputs": [],
   "source": [
    "ds_work[ds_work[\"SibSp\"] > 2.50].sort_values(by = \"SibSp\")"
   ]
  },
  {
   "cell_type": "markdown",
   "id": "b8840a23",
   "metadata": {},
   "source": [
    "Those rows with equal SibSp values, given the passengers have same last name and given they have the same values for Embarked, Fare, Parch, Ticket and Cabin, seem to represent siblings, as the feature \"SibSp\" gives information about siblings aboard."
   ]
  },
  {
   "cell_type": "markdown",
   "id": "f3d03400",
   "metadata": {},
   "source": [
    "Let's check a boxplot for SibSp for better understanding."
   ]
  },
  {
   "cell_type": "code",
   "execution_count": null,
   "id": "63931fec",
   "metadata": {},
   "outputs": [],
   "source": [
    "sns.boxplot(data = ds_work, x = \"SibSp\")"
   ]
  },
  {
   "cell_type": "markdown",
   "id": "599819cc",
   "metadata": {},
   "source": [
    "Since SibSp takes only few values, we can easily conclude that the 0.25-percentile (q1) is 0, the 0.75-percentile (q3) is 1, and the IQR is 1. So, even if an amount of 0 or 1 siblings/spouses were more common, it is logical and it makes sense to have siblings greater than 2 (Even 8 siblings/spouses). In conclussion, it is not neccesary to delete them."
   ]
  },
  {
   "cell_type": "markdown",
   "id": "39eac8b7",
   "metadata": {},
   "source": [
    "## Outliers for Parch"
   ]
  },
  {
   "cell_type": "markdown",
   "id": "df54b70c",
   "metadata": {},
   "source": [
    "Let's first check a histogram for SibSp"
   ]
  },
  {
   "cell_type": "code",
   "execution_count": null,
   "id": "23c2ee93",
   "metadata": {},
   "outputs": [],
   "source": [
    "sns.histplot(data = ds_work, x = \"Parch\", bins = 30)"
   ]
  },
  {
   "cell_type": "markdown",
   "id": "564edbdf",
   "metadata": {},
   "source": [
    "Even if our analysis also told us that Parch values greater than 0 may be considered outliers, values greater than or equal to 3 seem less common. Let's check those values"
   ]
  },
  {
   "cell_type": "code",
   "execution_count": null,
   "id": "475fb0d4",
   "metadata": {},
   "outputs": [],
   "source": [
    "ds_work[ds_work[\"Parch\"] >= 3].sort_values(by = \"Parch\")"
   ]
  },
  {
   "cell_type": "markdown",
   "id": "f3c42d1f",
   "metadata": {},
   "source": [
    "This doesn't give any important relationship."
   ]
  },
  {
   "cell_type": "markdown",
   "id": "29a1dba7",
   "metadata": {},
   "source": [
    "Let's check a boxplot for Parch for better understanding."
   ]
  },
  {
   "cell_type": "code",
   "execution_count": null,
   "id": "30a14b7f",
   "metadata": {},
   "outputs": [],
   "source": [
    "sns.boxplot(data = ds_work, x = \"Parch\")"
   ]
  },
  {
   "cell_type": "markdown",
   "id": "7af283bf",
   "metadata": {},
   "source": [
    "This also doesn't give us valuable information. Even if Parch values greater than 0 are less common, just like with SibSp, it is possible to have more than 0 parents/children. In conclussion, it is not neccesary to delete these values."
   ]
  },
  {
   "cell_type": "markdown",
   "id": "da88a44d",
   "metadata": {},
   "source": [
    "## Outliers for Fare"
   ]
  },
  {
   "cell_type": "markdown",
   "id": "ff101e12",
   "metadata": {},
   "source": [
    "From the histogram before, we supposed that some values may be outliers. Our analysis also told us that Fare values greater than 65.63 may be considered outliers. Let's check those values"
   ]
  },
  {
   "cell_type": "code",
   "execution_count": null,
   "id": "99c688e7",
   "metadata": {},
   "outputs": [],
   "source": [
    "ds_work[ds_work[\"Fare\"] >= 65.63].sort_values(by = \"Fare\")"
   ]
  },
  {
   "cell_type": "markdown",
   "id": "6af7f921",
   "metadata": {},
   "source": [
    "So, people who paid a higher Fare, usually travelled in 1st class (Which makes sense), but we can't get more important info by checking the other features."
   ]
  },
  {
   "cell_type": "markdown",
   "id": "ffec0353",
   "metadata": {},
   "source": [
    "Let's check a boxplot for Fare for better understanding."
   ]
  },
  {
   "cell_type": "code",
   "execution_count": null,
   "id": "03f798cd",
   "metadata": {},
   "outputs": [],
   "source": [
    "sns.boxplot(data = ds_work, x = \"Fare\")"
   ]
  },
  {
   "cell_type": "markdown",
   "id": "0e2ba642",
   "metadata": {},
   "source": [
    "Let's calculate the 0.25-percentile (q1) and the 0.75-percentile (q3) to calculate the interquartile range (iqr) and check where the most common values for Fare are"
   ]
  },
  {
   "cell_type": "code",
   "execution_count": null,
   "id": "a3d7ae7d",
   "metadata": {},
   "outputs": [],
   "source": [
    "q1_fare = np.percentile(ds_work[\"Fare\"], [25])\n",
    "q1_fare[0]"
   ]
  },
  {
   "cell_type": "code",
   "execution_count": null,
   "id": "8755e620",
   "metadata": {},
   "outputs": [],
   "source": [
    "q3_fare = np.percentile(ds_work[\"Fare\"], [75])\n",
    "q3_fare[0]"
   ]
  },
  {
   "cell_type": "code",
   "execution_count": null,
   "id": "d547306a",
   "metadata": {},
   "outputs": [],
   "source": [
    "iqr_fare = q3_fare - q1_fare\n",
    "iqr_fare[0]"
   ]
  },
  {
   "cell_type": "markdown",
   "id": "869d7354",
   "metadata": {},
   "source": [
    "Even if most common values for Fare are between 7.9104 and 31 years, there is nothing wrong with those values above 65.63. Logically, higher Fares are possible. In conclussion, it is not neccesary to delete them."
   ]
  }
 ],
 "metadata": {
  "kernelspec": {
   "display_name": "Python 3 (ipykernel)",
   "language": "python",
   "name": "python3"
  },
  "language_info": {
   "codemirror_mode": {
    "name": "ipython",
    "version": 3
   },
   "file_extension": ".py",
   "mimetype": "text/x-python",
   "name": "python",
   "nbconvert_exporter": "python",
   "pygments_lexer": "ipython3",
   "version": "3.10.9"
  }
 },
 "nbformat": 4,
 "nbformat_minor": 5
}
